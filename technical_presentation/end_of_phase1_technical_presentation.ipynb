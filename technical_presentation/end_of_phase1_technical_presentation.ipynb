{
 "cells": [
  {
   "cell_type": "markdown",
   "metadata": {},
   "source": [
    "# Analyzing [EDA Aviation Accidents Database]\n",
    "## Data Science Project\n",
    "### A Comprehensive Analysis using Pandas, Matplotlib, and Seaborn\n",
    "- **Simiyu David Masai**\n",
    "- **Moringa School**  \n",
    "- **25/11/2024**\n"
   ]
  },
  {
   "cell_type": "code",
   "execution_count": 103,
   "metadata": {},
   "outputs": [],
   "source": [
    "#importing libraries\n",
    "import matplotlib.pyplot as plt\n",
    "import numpy as np\n",
    "import pandas as pd\n",
    "import seaborn as sns\n",
    "import csv\n"
   ]
  },
  {
   "cell_type": "markdown",
   "metadata": {},
   "source": [
    "### 1. Loading the dataset and getting information"
   ]
  },
  {
   "cell_type": "code",
   "execution_count": 104,
   "metadata": {},
   "outputs": [],
   "source": [
    "#load data\n",
    "data=pd.read_csv('C:\\\\Users\\\\User\\\\Downloads\\\\endphase_data\\\\AviationData.csv', encoding='ISO-8859-1', engine='python')\n"
   ]
  },
  {
   "cell_type": "code",
   "execution_count": 105,
   "metadata": {},
   "outputs": [
    {
     "data": {
      "text/html": [
       "<div>\n",
       "<style scoped>\n",
       "    .dataframe tbody tr th:only-of-type {\n",
       "        vertical-align: middle;\n",
       "    }\n",
       "\n",
       "    .dataframe tbody tr th {\n",
       "        vertical-align: top;\n",
       "    }\n",
       "\n",
       "    .dataframe thead th {\n",
       "        text-align: right;\n",
       "    }\n",
       "</style>\n",
       "<table border=\"1\" class=\"dataframe\">\n",
       "  <thead>\n",
       "    <tr style=\"text-align: right;\">\n",
       "      <th></th>\n",
       "      <th>Event.Id</th>\n",
       "      <th>Investigation.Type</th>\n",
       "      <th>Accident.Number</th>\n",
       "      <th>Event.Date</th>\n",
       "      <th>Location</th>\n",
       "      <th>Country</th>\n",
       "      <th>Latitude</th>\n",
       "      <th>Longitude</th>\n",
       "      <th>Airport.Code</th>\n",
       "      <th>Airport.Name</th>\n",
       "      <th>...</th>\n",
       "      <th>Purpose.of.flight</th>\n",
       "      <th>Air.carrier</th>\n",
       "      <th>Total.Fatal.Injuries</th>\n",
       "      <th>Total.Serious.Injuries</th>\n",
       "      <th>Total.Minor.Injuries</th>\n",
       "      <th>Total.Uninjured</th>\n",
       "      <th>Weather.Condition</th>\n",
       "      <th>Broad.phase.of.flight</th>\n",
       "      <th>Report.Status</th>\n",
       "      <th>Publication.Date</th>\n",
       "    </tr>\n",
       "  </thead>\n",
       "  <tbody>\n",
       "    <tr>\n",
       "      <th>0</th>\n",
       "      <td>20001218X45444</td>\n",
       "      <td>Accident</td>\n",
       "      <td>SEA87LA080</td>\n",
       "      <td>1948-10-24</td>\n",
       "      <td>MOOSE CREEK, ID</td>\n",
       "      <td>United States</td>\n",
       "      <td>NaN</td>\n",
       "      <td>NaN</td>\n",
       "      <td>NaN</td>\n",
       "      <td>NaN</td>\n",
       "      <td>...</td>\n",
       "      <td>Personal</td>\n",
       "      <td>NaN</td>\n",
       "      <td>2.0</td>\n",
       "      <td>0.0</td>\n",
       "      <td>0.0</td>\n",
       "      <td>0.0</td>\n",
       "      <td>UNK</td>\n",
       "      <td>Cruise</td>\n",
       "      <td>Probable Cause</td>\n",
       "      <td>NaN</td>\n",
       "    </tr>\n",
       "    <tr>\n",
       "      <th>1</th>\n",
       "      <td>20001218X45447</td>\n",
       "      <td>Accident</td>\n",
       "      <td>LAX94LA336</td>\n",
       "      <td>1962-07-19</td>\n",
       "      <td>BRIDGEPORT, CA</td>\n",
       "      <td>United States</td>\n",
       "      <td>NaN</td>\n",
       "      <td>NaN</td>\n",
       "      <td>NaN</td>\n",
       "      <td>NaN</td>\n",
       "      <td>...</td>\n",
       "      <td>Personal</td>\n",
       "      <td>NaN</td>\n",
       "      <td>4.0</td>\n",
       "      <td>0.0</td>\n",
       "      <td>0.0</td>\n",
       "      <td>0.0</td>\n",
       "      <td>UNK</td>\n",
       "      <td>Unknown</td>\n",
       "      <td>Probable Cause</td>\n",
       "      <td>19-09-1996</td>\n",
       "    </tr>\n",
       "    <tr>\n",
       "      <th>2</th>\n",
       "      <td>20061025X01555</td>\n",
       "      <td>Accident</td>\n",
       "      <td>NYC07LA005</td>\n",
       "      <td>1974-08-30</td>\n",
       "      <td>Saltville, VA</td>\n",
       "      <td>United States</td>\n",
       "      <td>36.922223</td>\n",
       "      <td>-81.878056</td>\n",
       "      <td>NaN</td>\n",
       "      <td>NaN</td>\n",
       "      <td>...</td>\n",
       "      <td>Personal</td>\n",
       "      <td>NaN</td>\n",
       "      <td>3.0</td>\n",
       "      <td>NaN</td>\n",
       "      <td>NaN</td>\n",
       "      <td>NaN</td>\n",
       "      <td>IMC</td>\n",
       "      <td>Cruise</td>\n",
       "      <td>Probable Cause</td>\n",
       "      <td>26-02-2007</td>\n",
       "    </tr>\n",
       "    <tr>\n",
       "      <th>3</th>\n",
       "      <td>20001218X45448</td>\n",
       "      <td>Accident</td>\n",
       "      <td>LAX96LA321</td>\n",
       "      <td>1977-06-19</td>\n",
       "      <td>EUREKA, CA</td>\n",
       "      <td>United States</td>\n",
       "      <td>NaN</td>\n",
       "      <td>NaN</td>\n",
       "      <td>NaN</td>\n",
       "      <td>NaN</td>\n",
       "      <td>...</td>\n",
       "      <td>Personal</td>\n",
       "      <td>NaN</td>\n",
       "      <td>2.0</td>\n",
       "      <td>0.0</td>\n",
       "      <td>0.0</td>\n",
       "      <td>0.0</td>\n",
       "      <td>IMC</td>\n",
       "      <td>Cruise</td>\n",
       "      <td>Probable Cause</td>\n",
       "      <td>12-09-2000</td>\n",
       "    </tr>\n",
       "    <tr>\n",
       "      <th>4</th>\n",
       "      <td>20041105X01764</td>\n",
       "      <td>Accident</td>\n",
       "      <td>CHI79FA064</td>\n",
       "      <td>1979-08-02</td>\n",
       "      <td>Canton, OH</td>\n",
       "      <td>United States</td>\n",
       "      <td>NaN</td>\n",
       "      <td>NaN</td>\n",
       "      <td>NaN</td>\n",
       "      <td>NaN</td>\n",
       "      <td>...</td>\n",
       "      <td>Personal</td>\n",
       "      <td>NaN</td>\n",
       "      <td>1.0</td>\n",
       "      <td>2.0</td>\n",
       "      <td>NaN</td>\n",
       "      <td>0.0</td>\n",
       "      <td>VMC</td>\n",
       "      <td>Approach</td>\n",
       "      <td>Probable Cause</td>\n",
       "      <td>16-04-1980</td>\n",
       "    </tr>\n",
       "  </tbody>\n",
       "</table>\n",
       "<p>5 rows × 31 columns</p>\n",
       "</div>"
      ],
      "text/plain": [
       "         Event.Id Investigation.Type Accident.Number  Event.Date  \\\n",
       "0  20001218X45444           Accident      SEA87LA080  1948-10-24   \n",
       "1  20001218X45447           Accident      LAX94LA336  1962-07-19   \n",
       "2  20061025X01555           Accident      NYC07LA005  1974-08-30   \n",
       "3  20001218X45448           Accident      LAX96LA321  1977-06-19   \n",
       "4  20041105X01764           Accident      CHI79FA064  1979-08-02   \n",
       "\n",
       "          Location        Country   Latitude   Longitude Airport.Code  \\\n",
       "0  MOOSE CREEK, ID  United States        NaN         NaN          NaN   \n",
       "1   BRIDGEPORT, CA  United States        NaN         NaN          NaN   \n",
       "2    Saltville, VA  United States  36.922223  -81.878056          NaN   \n",
       "3       EUREKA, CA  United States        NaN         NaN          NaN   \n",
       "4       Canton, OH  United States        NaN         NaN          NaN   \n",
       "\n",
       "  Airport.Name  ... Purpose.of.flight Air.carrier Total.Fatal.Injuries  \\\n",
       "0          NaN  ...          Personal         NaN                  2.0   \n",
       "1          NaN  ...          Personal         NaN                  4.0   \n",
       "2          NaN  ...          Personal         NaN                  3.0   \n",
       "3          NaN  ...          Personal         NaN                  2.0   \n",
       "4          NaN  ...          Personal         NaN                  1.0   \n",
       "\n",
       "  Total.Serious.Injuries Total.Minor.Injuries Total.Uninjured  \\\n",
       "0                    0.0                  0.0             0.0   \n",
       "1                    0.0                  0.0             0.0   \n",
       "2                    NaN                  NaN             NaN   \n",
       "3                    0.0                  0.0             0.0   \n",
       "4                    2.0                  NaN             0.0   \n",
       "\n",
       "  Weather.Condition  Broad.phase.of.flight   Report.Status Publication.Date  \n",
       "0               UNK                 Cruise  Probable Cause              NaN  \n",
       "1               UNK                Unknown  Probable Cause       19-09-1996  \n",
       "2               IMC                 Cruise  Probable Cause       26-02-2007  \n",
       "3               IMC                 Cruise  Probable Cause       12-09-2000  \n",
       "4               VMC               Approach  Probable Cause       16-04-1980  \n",
       "\n",
       "[5 rows x 31 columns]"
      ]
     },
     "execution_count": 105,
     "metadata": {},
     "output_type": "execute_result"
    }
   ],
   "source": [
    "#Getting a quick overview of the data\n",
    "#first 5 rows and columns\n",
    "data.head(5)\n"
   ]
  },
  {
   "cell_type": "code",
   "execution_count": 106,
   "metadata": {},
   "outputs": [
    {
     "data": {
      "text/html": [
       "<div>\n",
       "<style scoped>\n",
       "    .dataframe tbody tr th:only-of-type {\n",
       "        vertical-align: middle;\n",
       "    }\n",
       "\n",
       "    .dataframe tbody tr th {\n",
       "        vertical-align: top;\n",
       "    }\n",
       "\n",
       "    .dataframe thead th {\n",
       "        text-align: right;\n",
       "    }\n",
       "</style>\n",
       "<table border=\"1\" class=\"dataframe\">\n",
       "  <thead>\n",
       "    <tr style=\"text-align: right;\">\n",
       "      <th></th>\n",
       "      <th>Event.Id</th>\n",
       "      <th>Investigation.Type</th>\n",
       "      <th>Accident.Number</th>\n",
       "      <th>Event.Date</th>\n",
       "      <th>Location</th>\n",
       "      <th>Country</th>\n",
       "      <th>Latitude</th>\n",
       "      <th>Longitude</th>\n",
       "      <th>Airport.Code</th>\n",
       "      <th>Airport.Name</th>\n",
       "      <th>...</th>\n",
       "      <th>Purpose.of.flight</th>\n",
       "      <th>Air.carrier</th>\n",
       "      <th>Total.Fatal.Injuries</th>\n",
       "      <th>Total.Serious.Injuries</th>\n",
       "      <th>Total.Minor.Injuries</th>\n",
       "      <th>Total.Uninjured</th>\n",
       "      <th>Weather.Condition</th>\n",
       "      <th>Broad.phase.of.flight</th>\n",
       "      <th>Report.Status</th>\n",
       "      <th>Publication.Date</th>\n",
       "    </tr>\n",
       "  </thead>\n",
       "  <tbody>\n",
       "    <tr>\n",
       "      <th>88884</th>\n",
       "      <td>20221227106491</td>\n",
       "      <td>Accident</td>\n",
       "      <td>ERA23LA093</td>\n",
       "      <td>2022-12-26</td>\n",
       "      <td>Annapolis, MD</td>\n",
       "      <td>United States</td>\n",
       "      <td>NaN</td>\n",
       "      <td>NaN</td>\n",
       "      <td>NaN</td>\n",
       "      <td>NaN</td>\n",
       "      <td>...</td>\n",
       "      <td>Personal</td>\n",
       "      <td>NaN</td>\n",
       "      <td>0.0</td>\n",
       "      <td>1.0</td>\n",
       "      <td>0.0</td>\n",
       "      <td>0.0</td>\n",
       "      <td>NaN</td>\n",
       "      <td>NaN</td>\n",
       "      <td>NaN</td>\n",
       "      <td>29-12-2022</td>\n",
       "    </tr>\n",
       "    <tr>\n",
       "      <th>88885</th>\n",
       "      <td>20221227106494</td>\n",
       "      <td>Accident</td>\n",
       "      <td>ERA23LA095</td>\n",
       "      <td>2022-12-26</td>\n",
       "      <td>Hampton, NH</td>\n",
       "      <td>United States</td>\n",
       "      <td>NaN</td>\n",
       "      <td>NaN</td>\n",
       "      <td>NaN</td>\n",
       "      <td>NaN</td>\n",
       "      <td>...</td>\n",
       "      <td>NaN</td>\n",
       "      <td>NaN</td>\n",
       "      <td>0.0</td>\n",
       "      <td>0.0</td>\n",
       "      <td>0.0</td>\n",
       "      <td>0.0</td>\n",
       "      <td>NaN</td>\n",
       "      <td>NaN</td>\n",
       "      <td>NaN</td>\n",
       "      <td>NaN</td>\n",
       "    </tr>\n",
       "    <tr>\n",
       "      <th>88886</th>\n",
       "      <td>20221227106497</td>\n",
       "      <td>Accident</td>\n",
       "      <td>WPR23LA075</td>\n",
       "      <td>2022-12-26</td>\n",
       "      <td>Payson, AZ</td>\n",
       "      <td>United States</td>\n",
       "      <td>341525N</td>\n",
       "      <td>1112021W</td>\n",
       "      <td>PAN</td>\n",
       "      <td>PAYSON</td>\n",
       "      <td>...</td>\n",
       "      <td>Personal</td>\n",
       "      <td>NaN</td>\n",
       "      <td>0.0</td>\n",
       "      <td>0.0</td>\n",
       "      <td>0.0</td>\n",
       "      <td>1.0</td>\n",
       "      <td>VMC</td>\n",
       "      <td>NaN</td>\n",
       "      <td>NaN</td>\n",
       "      <td>27-12-2022</td>\n",
       "    </tr>\n",
       "    <tr>\n",
       "      <th>88887</th>\n",
       "      <td>20221227106498</td>\n",
       "      <td>Accident</td>\n",
       "      <td>WPR23LA076</td>\n",
       "      <td>2022-12-26</td>\n",
       "      <td>Morgan, UT</td>\n",
       "      <td>United States</td>\n",
       "      <td>NaN</td>\n",
       "      <td>NaN</td>\n",
       "      <td>NaN</td>\n",
       "      <td>NaN</td>\n",
       "      <td>...</td>\n",
       "      <td>Personal</td>\n",
       "      <td>MC CESSNA 210N LLC</td>\n",
       "      <td>0.0</td>\n",
       "      <td>0.0</td>\n",
       "      <td>0.0</td>\n",
       "      <td>0.0</td>\n",
       "      <td>NaN</td>\n",
       "      <td>NaN</td>\n",
       "      <td>NaN</td>\n",
       "      <td>NaN</td>\n",
       "    </tr>\n",
       "    <tr>\n",
       "      <th>88888</th>\n",
       "      <td>20221230106513</td>\n",
       "      <td>Accident</td>\n",
       "      <td>ERA23LA097</td>\n",
       "      <td>2022-12-29</td>\n",
       "      <td>Athens, GA</td>\n",
       "      <td>United States</td>\n",
       "      <td>NaN</td>\n",
       "      <td>NaN</td>\n",
       "      <td>NaN</td>\n",
       "      <td>NaN</td>\n",
       "      <td>...</td>\n",
       "      <td>Personal</td>\n",
       "      <td>NaN</td>\n",
       "      <td>0.0</td>\n",
       "      <td>1.0</td>\n",
       "      <td>0.0</td>\n",
       "      <td>1.0</td>\n",
       "      <td>NaN</td>\n",
       "      <td>NaN</td>\n",
       "      <td>NaN</td>\n",
       "      <td>30-12-2022</td>\n",
       "    </tr>\n",
       "  </tbody>\n",
       "</table>\n",
       "<p>5 rows × 31 columns</p>\n",
       "</div>"
      ],
      "text/plain": [
       "             Event.Id Investigation.Type Accident.Number  Event.Date  \\\n",
       "88884  20221227106491           Accident      ERA23LA093  2022-12-26   \n",
       "88885  20221227106494           Accident      ERA23LA095  2022-12-26   \n",
       "88886  20221227106497           Accident      WPR23LA075  2022-12-26   \n",
       "88887  20221227106498           Accident      WPR23LA076  2022-12-26   \n",
       "88888  20221230106513           Accident      ERA23LA097  2022-12-29   \n",
       "\n",
       "            Location        Country Latitude Longitude Airport.Code  \\\n",
       "88884  Annapolis, MD  United States      NaN       NaN          NaN   \n",
       "88885    Hampton, NH  United States      NaN       NaN          NaN   \n",
       "88886     Payson, AZ  United States  341525N  1112021W          PAN   \n",
       "88887     Morgan, UT  United States      NaN       NaN          NaN   \n",
       "88888     Athens, GA  United States      NaN       NaN          NaN   \n",
       "\n",
       "      Airport.Name  ... Purpose.of.flight         Air.carrier  \\\n",
       "88884          NaN  ...          Personal                 NaN   \n",
       "88885          NaN  ...               NaN                 NaN   \n",
       "88886       PAYSON  ...          Personal                 NaN   \n",
       "88887          NaN  ...          Personal  MC CESSNA 210N LLC   \n",
       "88888          NaN  ...          Personal                 NaN   \n",
       "\n",
       "      Total.Fatal.Injuries Total.Serious.Injuries Total.Minor.Injuries  \\\n",
       "88884                  0.0                    1.0                  0.0   \n",
       "88885                  0.0                    0.0                  0.0   \n",
       "88886                  0.0                    0.0                  0.0   \n",
       "88887                  0.0                    0.0                  0.0   \n",
       "88888                  0.0                    1.0                  0.0   \n",
       "\n",
       "      Total.Uninjured Weather.Condition  Broad.phase.of.flight Report.Status  \\\n",
       "88884             0.0               NaN                    NaN           NaN   \n",
       "88885             0.0               NaN                    NaN           NaN   \n",
       "88886             1.0               VMC                    NaN           NaN   \n",
       "88887             0.0               NaN                    NaN           NaN   \n",
       "88888             1.0               NaN                    NaN           NaN   \n",
       "\n",
       "      Publication.Date  \n",
       "88884       29-12-2022  \n",
       "88885              NaN  \n",
       "88886       27-12-2022  \n",
       "88887              NaN  \n",
       "88888       30-12-2022  \n",
       "\n",
       "[5 rows x 31 columns]"
      ]
     },
     "execution_count": 106,
     "metadata": {},
     "output_type": "execute_result"
    }
   ],
   "source": [
    "#last 5 rows and columns\n",
    "data.tail(5)"
   ]
  },
  {
   "cell_type": "markdown",
   "metadata": {},
   "source": [
    "Observation : the dataset values are not uniform"
   ]
  },
  {
   "cell_type": "code",
   "execution_count": 107,
   "metadata": {},
   "outputs": [
    {
     "name": "stdout",
     "output_type": "stream",
     "text": [
      "<class 'pandas.core.frame.DataFrame'>\n",
      "RangeIndex: 88889 entries, 0 to 88888\n",
      "Data columns (total 31 columns):\n",
      " #   Column                  Non-Null Count  Dtype  \n",
      "---  ------                  --------------  -----  \n",
      " 0   Event.Id                88889 non-null  object \n",
      " 1   Investigation.Type      88889 non-null  object \n",
      " 2   Accident.Number         88889 non-null  object \n",
      " 3   Event.Date              88889 non-null  object \n",
      " 4   Location                88837 non-null  object \n",
      " 5   Country                 88663 non-null  object \n",
      " 6   Latitude                34382 non-null  object \n",
      " 7   Longitude               34373 non-null  object \n",
      " 8   Airport.Code            50132 non-null  object \n",
      " 9   Airport.Name            52704 non-null  object \n",
      " 10  Injury.Severity         87889 non-null  object \n",
      " 11  Aircraft.damage         85695 non-null  object \n",
      " 12  Aircraft.Category       32287 non-null  object \n",
      " 13  Registration.Number     87507 non-null  object \n",
      " 14  Make                    88826 non-null  object \n",
      " 15  Model                   88797 non-null  object \n",
      " 16  Amateur.Built           88787 non-null  object \n",
      " 17  Number.of.Engines       82805 non-null  float64\n",
      " 18  Engine.Type             81793 non-null  object \n",
      " 19  FAR.Description         32023 non-null  object \n",
      " 20  Schedule                12582 non-null  object \n",
      " 21  Purpose.of.flight       82697 non-null  object \n",
      " 22  Air.carrier             16648 non-null  object \n",
      " 23  Total.Fatal.Injuries    77488 non-null  float64\n",
      " 24  Total.Serious.Injuries  76379 non-null  float64\n",
      " 25  Total.Minor.Injuries    76956 non-null  float64\n",
      " 26  Total.Uninjured         82977 non-null  float64\n",
      " 27  Weather.Condition       84397 non-null  object \n",
      " 28  Broad.phase.of.flight   61724 non-null  object \n",
      " 29  Report.Status           82505 non-null  object \n",
      " 30  Publication.Date        75118 non-null  object \n",
      "dtypes: float64(5), object(26)\n",
      "memory usage: 21.0+ MB\n"
     ]
    }
   ],
   "source": [
    "#more information on datatypes about the Dataset\n",
    "data.info()"
   ]
  },
  {
   "cell_type": "code",
   "execution_count": 108,
   "metadata": {},
   "outputs": [
    {
     "name": "stdout",
     "output_type": "stream",
     "text": [
      "<class 'pandas.core.frame.DataFrame'>\n",
      "RangeIndex: 88889 entries, 0 to 88888\n",
      "Columns: 31 entries, Event.Id to Publication.Date\n",
      "dtypes: float64(5), object(26)\n",
      "memory usage: 21.0+ MB\n"
     ]
    }
   ],
   "source": [
    "data.info(verbose=False)"
   ]
  },
  {
   "cell_type": "code",
   "execution_count": 109,
   "metadata": {},
   "outputs": [
    {
     "data": {
      "text/plain": [
       "Event.Id                   object\n",
       "Investigation.Type         object\n",
       "Accident.Number            object\n",
       "Event.Date                 object\n",
       "Location                   object\n",
       "Country                    object\n",
       "Latitude                   object\n",
       "Longitude                  object\n",
       "Airport.Code               object\n",
       "Airport.Name               object\n",
       "Injury.Severity            object\n",
       "Aircraft.damage            object\n",
       "Aircraft.Category          object\n",
       "Registration.Number        object\n",
       "Make                       object\n",
       "Model                      object\n",
       "Amateur.Built              object\n",
       "Number.of.Engines         float64\n",
       "Engine.Type                object\n",
       "FAR.Description            object\n",
       "Schedule                   object\n",
       "Purpose.of.flight          object\n",
       "Air.carrier                object\n",
       "Total.Fatal.Injuries      float64\n",
       "Total.Serious.Injuries    float64\n",
       "Total.Minor.Injuries      float64\n",
       "Total.Uninjured           float64\n",
       "Weather.Condition          object\n",
       "Broad.phase.of.flight      object\n",
       "Report.Status              object\n",
       "Publication.Date           object\n",
       "dtype: object"
      ]
     },
     "execution_count": 109,
     "metadata": {},
     "output_type": "execute_result"
    }
   ],
   "source": [
    "#check data type using dtypes\n",
    "data.dtypes"
   ]
  },
  {
   "cell_type": "code",
   "execution_count": 110,
   "metadata": {},
   "outputs": [
    {
     "data": {
      "text/plain": [
       "(88889, 31)"
      ]
     },
     "execution_count": 110,
     "metadata": {},
     "output_type": "execute_result"
    }
   ],
   "source": [
    "#checking the shape of the dataset\n",
    "data.shape\n",
    "#there as 88889 rows and 31 columns"
   ]
  },
  {
   "cell_type": "code",
   "execution_count": 111,
   "metadata": {},
   "outputs": [
    {
     "data": {
      "text/html": [
       "<div>\n",
       "<style scoped>\n",
       "    .dataframe tbody tr th:only-of-type {\n",
       "        vertical-align: middle;\n",
       "    }\n",
       "\n",
       "    .dataframe tbody tr th {\n",
       "        vertical-align: top;\n",
       "    }\n",
       "\n",
       "    .dataframe thead th {\n",
       "        text-align: right;\n",
       "    }\n",
       "</style>\n",
       "<table border=\"1\" class=\"dataframe\">\n",
       "  <thead>\n",
       "    <tr style=\"text-align: right;\">\n",
       "      <th></th>\n",
       "      <th>count</th>\n",
       "      <th>mean</th>\n",
       "      <th>std</th>\n",
       "      <th>min</th>\n",
       "      <th>25%</th>\n",
       "      <th>50%</th>\n",
       "      <th>75%</th>\n",
       "      <th>max</th>\n",
       "    </tr>\n",
       "  </thead>\n",
       "  <tbody>\n",
       "    <tr>\n",
       "      <th>Number.of.Engines</th>\n",
       "      <td>82805.0</td>\n",
       "      <td>1.146585</td>\n",
       "      <td>0.446510</td>\n",
       "      <td>0.0</td>\n",
       "      <td>1.0</td>\n",
       "      <td>1.0</td>\n",
       "      <td>1.0</td>\n",
       "      <td>8.0</td>\n",
       "    </tr>\n",
       "    <tr>\n",
       "      <th>Total.Fatal.Injuries</th>\n",
       "      <td>77488.0</td>\n",
       "      <td>0.647855</td>\n",
       "      <td>5.485960</td>\n",
       "      <td>0.0</td>\n",
       "      <td>0.0</td>\n",
       "      <td>0.0</td>\n",
       "      <td>0.0</td>\n",
       "      <td>349.0</td>\n",
       "    </tr>\n",
       "    <tr>\n",
       "      <th>Total.Serious.Injuries</th>\n",
       "      <td>76379.0</td>\n",
       "      <td>0.279881</td>\n",
       "      <td>1.544084</td>\n",
       "      <td>0.0</td>\n",
       "      <td>0.0</td>\n",
       "      <td>0.0</td>\n",
       "      <td>0.0</td>\n",
       "      <td>161.0</td>\n",
       "    </tr>\n",
       "    <tr>\n",
       "      <th>Total.Minor.Injuries</th>\n",
       "      <td>76956.0</td>\n",
       "      <td>0.357061</td>\n",
       "      <td>2.235625</td>\n",
       "      <td>0.0</td>\n",
       "      <td>0.0</td>\n",
       "      <td>0.0</td>\n",
       "      <td>0.0</td>\n",
       "      <td>380.0</td>\n",
       "    </tr>\n",
       "    <tr>\n",
       "      <th>Total.Uninjured</th>\n",
       "      <td>82977.0</td>\n",
       "      <td>5.325440</td>\n",
       "      <td>27.913634</td>\n",
       "      <td>0.0</td>\n",
       "      <td>0.0</td>\n",
       "      <td>1.0</td>\n",
       "      <td>2.0</td>\n",
       "      <td>699.0</td>\n",
       "    </tr>\n",
       "  </tbody>\n",
       "</table>\n",
       "</div>"
      ],
      "text/plain": [
       "                          count      mean        std  min  25%  50%  75%  \\\n",
       "Number.of.Engines       82805.0  1.146585   0.446510  0.0  1.0  1.0  1.0   \n",
       "Total.Fatal.Injuries    77488.0  0.647855   5.485960  0.0  0.0  0.0  0.0   \n",
       "Total.Serious.Injuries  76379.0  0.279881   1.544084  0.0  0.0  0.0  0.0   \n",
       "Total.Minor.Injuries    76956.0  0.357061   2.235625  0.0  0.0  0.0  0.0   \n",
       "Total.Uninjured         82977.0  5.325440  27.913634  0.0  0.0  1.0  2.0   \n",
       "\n",
       "                          max  \n",
       "Number.of.Engines         8.0  \n",
       "Total.Fatal.Injuries    349.0  \n",
       "Total.Serious.Injuries  161.0  \n",
       "Total.Minor.Injuries    380.0  \n",
       "Total.Uninjured         699.0  "
      ]
     },
     "execution_count": 111,
     "metadata": {},
     "output_type": "execute_result"
    }
   ],
   "source": [
    "#concise stat\n",
    "data.describe().T\n",
    "#but there are missing values"
   ]
  },
  {
   "cell_type": "code",
   "execution_count": 112,
   "metadata": {},
   "outputs": [
    {
     "data": {
      "text/plain": [
       "Index(['Event.Id', 'Investigation.Type', 'Accident.Number', 'Event.Date',\n",
       "       'Location', 'Country', 'Latitude', 'Longitude', 'Airport.Code',\n",
       "       'Airport.Name', 'Injury.Severity', 'Aircraft.damage',\n",
       "       'Aircraft.Category', 'Registration.Number', 'Make', 'Model',\n",
       "       'Amateur.Built', 'Number.of.Engines', 'Engine.Type', 'FAR.Description',\n",
       "       'Schedule', 'Purpose.of.flight', 'Air.carrier', 'Total.Fatal.Injuries',\n",
       "       'Total.Serious.Injuries', 'Total.Minor.Injuries', 'Total.Uninjured',\n",
       "       'Weather.Condition', 'Broad.phase.of.flight', 'Report.Status',\n",
       "       'Publication.Date'],\n",
       "      dtype='object')"
      ]
     },
     "execution_count": 112,
     "metadata": {},
     "output_type": "execute_result"
    }
   ],
   "source": [
    "#check columns\n",
    "data.columns"
   ]
  },
  {
   "cell_type": "markdown",
   "metadata": {},
   "source": [
    "# 2. Data Cleaning\n",
    "\n",
    "This step involves dropping columns not necessary in this analysis and cleaning the desired columns and rows"
   ]
  },
  {
   "cell_type": "code",
   "execution_count": 113,
   "metadata": {},
   "outputs": [],
   "source": [
    "#create a copy of my dataset before performing cleaning which will involve dropping columns and rows\n",
    "#Create a dataframe copy to be used in data cleaning\n",
    "df = data.copy(deep = True)"
   ]
  },
  {
   "cell_type": "code",
   "execution_count": 114,
   "metadata": {},
   "outputs": [
    {
     "data": {
      "text/plain": [
       "Event.Id                      0\n",
       "Investigation.Type            0\n",
       "Accident.Number               0\n",
       "Event.Date                    0\n",
       "Location                     52\n",
       "Country                     226\n",
       "Latitude                  54507\n",
       "Longitude                 54516\n",
       "Airport.Code              38757\n",
       "Airport.Name              36185\n",
       "Injury.Severity            1000\n",
       "Aircraft.damage            3194\n",
       "Aircraft.Category         56602\n",
       "Registration.Number        1382\n",
       "Make                         63\n",
       "Model                        92\n",
       "Amateur.Built               102\n",
       "Number.of.Engines          6084\n",
       "Engine.Type                7096\n",
       "FAR.Description           56866\n",
       "Schedule                  76307\n",
       "Purpose.of.flight          6192\n",
       "Air.carrier               72241\n",
       "Total.Fatal.Injuries      11401\n",
       "Total.Serious.Injuries    12510\n",
       "Total.Minor.Injuries      11933\n",
       "Total.Uninjured            5912\n",
       "Weather.Condition          4492\n",
       "Broad.phase.of.flight     27165\n",
       "Report.Status              6384\n",
       "Publication.Date          13771\n",
       "dtype: int64"
      ]
     },
     "execution_count": 114,
     "metadata": {},
     "output_type": "execute_result"
    }
   ],
   "source": [
    "#checking number of missing values\n",
    "df.isna().sum()"
   ]
  },
  {
   "cell_type": "code",
   "execution_count": 115,
   "metadata": {},
   "outputs": [
    {
     "data": {
      "text/html": [
       "<div>\n",
       "<style scoped>\n",
       "    .dataframe tbody tr th:only-of-type {\n",
       "        vertical-align: middle;\n",
       "    }\n",
       "\n",
       "    .dataframe tbody tr th {\n",
       "        vertical-align: top;\n",
       "    }\n",
       "\n",
       "    .dataframe thead th {\n",
       "        text-align: right;\n",
       "    }\n",
       "</style>\n",
       "<table border=\"1\" class=\"dataframe\">\n",
       "  <thead>\n",
       "    <tr style=\"text-align: right;\">\n",
       "      <th></th>\n",
       "      <th>Event.Id</th>\n",
       "      <th>Investigation.Type</th>\n",
       "      <th>Accident.Number</th>\n",
       "      <th>Event.Date</th>\n",
       "      <th>Location</th>\n",
       "      <th>Country</th>\n",
       "      <th>Latitude</th>\n",
       "      <th>Longitude</th>\n",
       "      <th>Airport.Code</th>\n",
       "      <th>Airport.Name</th>\n",
       "      <th>...</th>\n",
       "      <th>Purpose.of.flight</th>\n",
       "      <th>Air.carrier</th>\n",
       "      <th>Total.Fatal.Injuries</th>\n",
       "      <th>Total.Serious.Injuries</th>\n",
       "      <th>Total.Minor.Injuries</th>\n",
       "      <th>Total.Uninjured</th>\n",
       "      <th>Weather.Condition</th>\n",
       "      <th>Broad.phase.of.flight</th>\n",
       "      <th>Report.Status</th>\n",
       "      <th>Publication.Date</th>\n",
       "    </tr>\n",
       "  </thead>\n",
       "  <tbody>\n",
       "    <tr>\n",
       "      <th>0</th>\n",
       "      <td>20001218X45444</td>\n",
       "      <td>Accident</td>\n",
       "      <td>SEA87LA080</td>\n",
       "      <td>1948-10-24</td>\n",
       "      <td>MOOSE CREEK, ID</td>\n",
       "      <td>United States</td>\n",
       "      <td>NaN</td>\n",
       "      <td>NaN</td>\n",
       "      <td>NaN</td>\n",
       "      <td>NaN</td>\n",
       "      <td>...</td>\n",
       "      <td>Personal</td>\n",
       "      <td>NaN</td>\n",
       "      <td>2.0</td>\n",
       "      <td>0.0</td>\n",
       "      <td>0.0</td>\n",
       "      <td>0.0</td>\n",
       "      <td>UNK</td>\n",
       "      <td>Cruise</td>\n",
       "      <td>Probable Cause</td>\n",
       "      <td>NaN</td>\n",
       "    </tr>\n",
       "    <tr>\n",
       "      <th>1</th>\n",
       "      <td>20001218X45447</td>\n",
       "      <td>Accident</td>\n",
       "      <td>LAX94LA336</td>\n",
       "      <td>1962-07-19</td>\n",
       "      <td>BRIDGEPORT, CA</td>\n",
       "      <td>United States</td>\n",
       "      <td>NaN</td>\n",
       "      <td>NaN</td>\n",
       "      <td>NaN</td>\n",
       "      <td>NaN</td>\n",
       "      <td>...</td>\n",
       "      <td>Personal</td>\n",
       "      <td>NaN</td>\n",
       "      <td>4.0</td>\n",
       "      <td>0.0</td>\n",
       "      <td>0.0</td>\n",
       "      <td>0.0</td>\n",
       "      <td>UNK</td>\n",
       "      <td>Unknown</td>\n",
       "      <td>Probable Cause</td>\n",
       "      <td>19-09-1996</td>\n",
       "    </tr>\n",
       "    <tr>\n",
       "      <th>2</th>\n",
       "      <td>20061025X01555</td>\n",
       "      <td>Accident</td>\n",
       "      <td>NYC07LA005</td>\n",
       "      <td>1974-08-30</td>\n",
       "      <td>Saltville, VA</td>\n",
       "      <td>United States</td>\n",
       "      <td>36.922223</td>\n",
       "      <td>-81.878056</td>\n",
       "      <td>NaN</td>\n",
       "      <td>NaN</td>\n",
       "      <td>...</td>\n",
       "      <td>Personal</td>\n",
       "      <td>NaN</td>\n",
       "      <td>3.0</td>\n",
       "      <td>NaN</td>\n",
       "      <td>NaN</td>\n",
       "      <td>NaN</td>\n",
       "      <td>IMC</td>\n",
       "      <td>Cruise</td>\n",
       "      <td>Probable Cause</td>\n",
       "      <td>26-02-2007</td>\n",
       "    </tr>\n",
       "  </tbody>\n",
       "</table>\n",
       "<p>3 rows × 31 columns</p>\n",
       "</div>"
      ],
      "text/plain": [
       "         Event.Id Investigation.Type Accident.Number  Event.Date  \\\n",
       "0  20001218X45444           Accident      SEA87LA080  1948-10-24   \n",
       "1  20001218X45447           Accident      LAX94LA336  1962-07-19   \n",
       "2  20061025X01555           Accident      NYC07LA005  1974-08-30   \n",
       "\n",
       "          Location        Country   Latitude   Longitude Airport.Code  \\\n",
       "0  MOOSE CREEK, ID  United States        NaN         NaN          NaN   \n",
       "1   BRIDGEPORT, CA  United States        NaN         NaN          NaN   \n",
       "2    Saltville, VA  United States  36.922223  -81.878056          NaN   \n",
       "\n",
       "  Airport.Name  ... Purpose.of.flight Air.carrier Total.Fatal.Injuries  \\\n",
       "0          NaN  ...          Personal         NaN                  2.0   \n",
       "1          NaN  ...          Personal         NaN                  4.0   \n",
       "2          NaN  ...          Personal         NaN                  3.0   \n",
       "\n",
       "  Total.Serious.Injuries Total.Minor.Injuries Total.Uninjured  \\\n",
       "0                    0.0                  0.0             0.0   \n",
       "1                    0.0                  0.0             0.0   \n",
       "2                    NaN                  NaN             NaN   \n",
       "\n",
       "  Weather.Condition  Broad.phase.of.flight   Report.Status Publication.Date  \n",
       "0               UNK                 Cruise  Probable Cause              NaN  \n",
       "1               UNK                Unknown  Probable Cause       19-09-1996  \n",
       "2               IMC                 Cruise  Probable Cause       26-02-2007  \n",
       "\n",
       "[3 rows x 31 columns]"
      ]
     },
     "execution_count": 115,
     "metadata": {},
     "output_type": "execute_result"
    }
   ],
   "source": [
    "df.head(3)"
   ]
  },
  {
   "cell_type": "code",
   "execution_count": 116,
   "metadata": {},
   "outputs": [
    {
     "data": {
      "text/plain": [
       "Event.Id                      0\n",
       "Investigation.Type            0\n",
       "Accident.Number               0\n",
       "Event.Date                    0\n",
       "Location                     52\n",
       "Country                     226\n",
       "Latitude                  54507\n",
       "Longitude                 54516\n",
       "Airport.Code              38757\n",
       "Airport.Name              36185\n",
       "Injury.Severity            1000\n",
       "Aircraft.damage            3194\n",
       "Aircraft.Category         56602\n",
       "Registration.Number        1382\n",
       "Make                         63\n",
       "Model                        92\n",
       "Amateur.Built               102\n",
       "Number.of.Engines          6084\n",
       "Engine.Type                7096\n",
       "FAR.Description           56866\n",
       "Schedule                  76307\n",
       "Purpose.of.flight          6192\n",
       "Air.carrier               72241\n",
       "Total.Fatal.Injuries      11401\n",
       "Total.Serious.Injuries    12510\n",
       "Total.Minor.Injuries      11933\n",
       "Total.Uninjured            5912\n",
       "Weather.Condition          4492\n",
       "Broad.phase.of.flight     27165\n",
       "Report.Status              6384\n",
       "Publication.Date          13771\n",
       "dtype: int64"
      ]
     },
     "execution_count": 116,
     "metadata": {},
     "output_type": "execute_result"
    }
   ],
   "source": [
    "df.isna().sum()"
   ]
  },
  {
   "cell_type": "code",
   "execution_count": 117,
   "metadata": {},
   "outputs": [],
   "source": [
    "#dropping unnnecessary columns to the analysis\n",
    "#dropping columns with more than 50% missing values\n",
    "#retaining important columns like Aircraft.Category even with 50% missing values\n",
    "df=data.drop(columns=['Event.Date','Event.Id','Airport.Name','Purpose.of.flight','Airport.Code','Schedule','Investigation.Type','Accident.Number','Latitude','Longitude','Registration.Number','FAR.Description','Air.carrier','Publication.Date'])"
   ]
  },
  {
   "cell_type": "code",
   "execution_count": 118,
   "metadata": {},
   "outputs": [],
   "source": [
    "#filter the DataFrame to Focus on America \n",
    "df=df[df['Country']=='United States']"
   ]
  },
  {
   "cell_type": "code",
   "execution_count": 119,
   "metadata": {},
   "outputs": [
    {
     "data": {
      "text/html": [
       "<div>\n",
       "<style scoped>\n",
       "    .dataframe tbody tr th:only-of-type {\n",
       "        vertical-align: middle;\n",
       "    }\n",
       "\n",
       "    .dataframe tbody tr th {\n",
       "        vertical-align: top;\n",
       "    }\n",
       "\n",
       "    .dataframe thead th {\n",
       "        text-align: right;\n",
       "    }\n",
       "</style>\n",
       "<table border=\"1\" class=\"dataframe\">\n",
       "  <thead>\n",
       "    <tr style=\"text-align: right;\">\n",
       "      <th></th>\n",
       "      <th>Location</th>\n",
       "      <th>Country</th>\n",
       "      <th>Injury.Severity</th>\n",
       "      <th>Aircraft.damage</th>\n",
       "      <th>Aircraft.Category</th>\n",
       "      <th>Make</th>\n",
       "      <th>Model</th>\n",
       "      <th>Amateur.Built</th>\n",
       "      <th>Number.of.Engines</th>\n",
       "      <th>Engine.Type</th>\n",
       "      <th>Total.Fatal.Injuries</th>\n",
       "      <th>Total.Serious.Injuries</th>\n",
       "      <th>Total.Minor.Injuries</th>\n",
       "      <th>Total.Uninjured</th>\n",
       "      <th>Weather.Condition</th>\n",
       "      <th>Broad.phase.of.flight</th>\n",
       "      <th>Report.Status</th>\n",
       "    </tr>\n",
       "  </thead>\n",
       "  <tbody>\n",
       "    <tr>\n",
       "      <th>0</th>\n",
       "      <td>MOOSE CREEK, ID</td>\n",
       "      <td>United States</td>\n",
       "      <td>Fatal(2)</td>\n",
       "      <td>Destroyed</td>\n",
       "      <td>NaN</td>\n",
       "      <td>Stinson</td>\n",
       "      <td>108-3</td>\n",
       "      <td>No</td>\n",
       "      <td>1.0</td>\n",
       "      <td>Reciprocating</td>\n",
       "      <td>2.0</td>\n",
       "      <td>0.0</td>\n",
       "      <td>0.0</td>\n",
       "      <td>0.0</td>\n",
       "      <td>UNK</td>\n",
       "      <td>Cruise</td>\n",
       "      <td>Probable Cause</td>\n",
       "    </tr>\n",
       "    <tr>\n",
       "      <th>1</th>\n",
       "      <td>BRIDGEPORT, CA</td>\n",
       "      <td>United States</td>\n",
       "      <td>Fatal(4)</td>\n",
       "      <td>Destroyed</td>\n",
       "      <td>NaN</td>\n",
       "      <td>Piper</td>\n",
       "      <td>PA24-180</td>\n",
       "      <td>No</td>\n",
       "      <td>1.0</td>\n",
       "      <td>Reciprocating</td>\n",
       "      <td>4.0</td>\n",
       "      <td>0.0</td>\n",
       "      <td>0.0</td>\n",
       "      <td>0.0</td>\n",
       "      <td>UNK</td>\n",
       "      <td>Unknown</td>\n",
       "      <td>Probable Cause</td>\n",
       "    </tr>\n",
       "    <tr>\n",
       "      <th>2</th>\n",
       "      <td>Saltville, VA</td>\n",
       "      <td>United States</td>\n",
       "      <td>Fatal(3)</td>\n",
       "      <td>Destroyed</td>\n",
       "      <td>NaN</td>\n",
       "      <td>Cessna</td>\n",
       "      <td>172M</td>\n",
       "      <td>No</td>\n",
       "      <td>1.0</td>\n",
       "      <td>Reciprocating</td>\n",
       "      <td>3.0</td>\n",
       "      <td>NaN</td>\n",
       "      <td>NaN</td>\n",
       "      <td>NaN</td>\n",
       "      <td>IMC</td>\n",
       "      <td>Cruise</td>\n",
       "      <td>Probable Cause</td>\n",
       "    </tr>\n",
       "    <tr>\n",
       "      <th>3</th>\n",
       "      <td>EUREKA, CA</td>\n",
       "      <td>United States</td>\n",
       "      <td>Fatal(2)</td>\n",
       "      <td>Destroyed</td>\n",
       "      <td>NaN</td>\n",
       "      <td>Rockwell</td>\n",
       "      <td>112</td>\n",
       "      <td>No</td>\n",
       "      <td>1.0</td>\n",
       "      <td>Reciprocating</td>\n",
       "      <td>2.0</td>\n",
       "      <td>0.0</td>\n",
       "      <td>0.0</td>\n",
       "      <td>0.0</td>\n",
       "      <td>IMC</td>\n",
       "      <td>Cruise</td>\n",
       "      <td>Probable Cause</td>\n",
       "    </tr>\n",
       "    <tr>\n",
       "      <th>4</th>\n",
       "      <td>Canton, OH</td>\n",
       "      <td>United States</td>\n",
       "      <td>Fatal(1)</td>\n",
       "      <td>Destroyed</td>\n",
       "      <td>NaN</td>\n",
       "      <td>Cessna</td>\n",
       "      <td>501</td>\n",
       "      <td>No</td>\n",
       "      <td>NaN</td>\n",
       "      <td>NaN</td>\n",
       "      <td>1.0</td>\n",
       "      <td>2.0</td>\n",
       "      <td>NaN</td>\n",
       "      <td>0.0</td>\n",
       "      <td>VMC</td>\n",
       "      <td>Approach</td>\n",
       "      <td>Probable Cause</td>\n",
       "    </tr>\n",
       "  </tbody>\n",
       "</table>\n",
       "</div>"
      ],
      "text/plain": [
       "          Location        Country Injury.Severity Aircraft.damage  \\\n",
       "0  MOOSE CREEK, ID  United States        Fatal(2)       Destroyed   \n",
       "1   BRIDGEPORT, CA  United States        Fatal(4)       Destroyed   \n",
       "2    Saltville, VA  United States        Fatal(3)       Destroyed   \n",
       "3       EUREKA, CA  United States        Fatal(2)       Destroyed   \n",
       "4       Canton, OH  United States        Fatal(1)       Destroyed   \n",
       "\n",
       "  Aircraft.Category      Make     Model Amateur.Built  Number.of.Engines  \\\n",
       "0               NaN   Stinson     108-3            No                1.0   \n",
       "1               NaN     Piper  PA24-180            No                1.0   \n",
       "2               NaN    Cessna      172M            No                1.0   \n",
       "3               NaN  Rockwell       112            No                1.0   \n",
       "4               NaN    Cessna       501            No                NaN   \n",
       "\n",
       "     Engine.Type  Total.Fatal.Injuries  Total.Serious.Injuries  \\\n",
       "0  Reciprocating                   2.0                     0.0   \n",
       "1  Reciprocating                   4.0                     0.0   \n",
       "2  Reciprocating                   3.0                     NaN   \n",
       "3  Reciprocating                   2.0                     0.0   \n",
       "4            NaN                   1.0                     2.0   \n",
       "\n",
       "   Total.Minor.Injuries  Total.Uninjured Weather.Condition  \\\n",
       "0                   0.0              0.0               UNK   \n",
       "1                   0.0              0.0               UNK   \n",
       "2                   NaN              NaN               IMC   \n",
       "3                   0.0              0.0               IMC   \n",
       "4                   NaN              0.0               VMC   \n",
       "\n",
       "  Broad.phase.of.flight   Report.Status  \n",
       "0                Cruise  Probable Cause  \n",
       "1               Unknown  Probable Cause  \n",
       "2                Cruise  Probable Cause  \n",
       "3                Cruise  Probable Cause  \n",
       "4              Approach  Probable Cause  "
      ]
     },
     "execution_count": 119,
     "metadata": {},
     "output_type": "execute_result"
    }
   ],
   "source": [
    "df.head()"
   ]
  },
  {
   "cell_type": "code",
   "execution_count": 120,
   "metadata": {},
   "outputs": [
    {
     "name": "stdout",
     "output_type": "stream",
     "text": [
      "<class 'pandas.core.frame.DataFrame'>\n",
      "Index: 82248 entries, 0 to 88888\n",
      "Data columns (total 17 columns):\n",
      " #   Column                  Non-Null Count  Dtype  \n",
      "---  ------                  --------------  -----  \n",
      " 0   Location                82237 non-null  object \n",
      " 1   Country                 82248 non-null  object \n",
      " 2   Injury.Severity         82140 non-null  object \n",
      " 3   Aircraft.damage         80269 non-null  object \n",
      " 4   Aircraft.Category       28154 non-null  object \n",
      " 5   Make                    82227 non-null  object \n",
      " 6   Model                   82210 non-null  object \n",
      " 7   Amateur.Built           82227 non-null  object \n",
      " 8   Number.of.Engines       80373 non-null  float64\n",
      " 9   Engine.Type             79206 non-null  object \n",
      " 10  Total.Fatal.Injuries    71594 non-null  float64\n",
      " 11  Total.Serious.Injuries  70873 non-null  float64\n",
      " 12  Total.Minor.Injuries    71519 non-null  float64\n",
      " 13  Total.Uninjured         77243 non-null  float64\n",
      " 14  Weather.Condition       81603 non-null  object \n",
      " 15  Broad.phase.of.flight   61158 non-null  object \n",
      " 16  Report.Status           79637 non-null  object \n",
      "dtypes: float64(5), object(12)\n",
      "memory usage: 11.3+ MB\n"
     ]
    }
   ],
   "source": [
    "#info on modified new DataFrame\n",
    "df.info()"
   ]
  },
  {
   "cell_type": "code",
   "execution_count": 121,
   "metadata": {},
   "outputs": [
    {
     "data": {
      "text/html": [
       "<div>\n",
       "<style scoped>\n",
       "    .dataframe tbody tr th:only-of-type {\n",
       "        vertical-align: middle;\n",
       "    }\n",
       "\n",
       "    .dataframe tbody tr th {\n",
       "        vertical-align: top;\n",
       "    }\n",
       "\n",
       "    .dataframe thead th {\n",
       "        text-align: right;\n",
       "    }\n",
       "</style>\n",
       "<table border=\"1\" class=\"dataframe\">\n",
       "  <thead>\n",
       "    <tr style=\"text-align: right;\">\n",
       "      <th></th>\n",
       "      <th>Number.of.Engines</th>\n",
       "      <th>Total.Fatal.Injuries</th>\n",
       "      <th>Total.Serious.Injuries</th>\n",
       "      <th>Total.Minor.Injuries</th>\n",
       "      <th>Total.Uninjured</th>\n",
       "    </tr>\n",
       "  </thead>\n",
       "  <tbody>\n",
       "    <tr>\n",
       "      <th>count</th>\n",
       "      <td>80373.000000</td>\n",
       "      <td>71594.000000</td>\n",
       "      <td>70873.000000</td>\n",
       "      <td>71519.000000</td>\n",
       "      <td>77243.000000</td>\n",
       "    </tr>\n",
       "    <tr>\n",
       "      <th>mean</th>\n",
       "      <td>1.135481</td>\n",
       "      <td>0.421683</td>\n",
       "      <td>0.257178</td>\n",
       "      <td>0.332974</td>\n",
       "      <td>4.302448</td>\n",
       "    </tr>\n",
       "    <tr>\n",
       "      <th>std</th>\n",
       "      <td>0.427286</td>\n",
       "      <td>2.433647</td>\n",
       "      <td>1.144189</td>\n",
       "      <td>1.306604</td>\n",
       "      <td>23.794728</td>\n",
       "    </tr>\n",
       "    <tr>\n",
       "      <th>min</th>\n",
       "      <td>0.000000</td>\n",
       "      <td>0.000000</td>\n",
       "      <td>0.000000</td>\n",
       "      <td>0.000000</td>\n",
       "      <td>0.000000</td>\n",
       "    </tr>\n",
       "    <tr>\n",
       "      <th>25%</th>\n",
       "      <td>1.000000</td>\n",
       "      <td>0.000000</td>\n",
       "      <td>0.000000</td>\n",
       "      <td>0.000000</td>\n",
       "      <td>0.000000</td>\n",
       "    </tr>\n",
       "    <tr>\n",
       "      <th>50%</th>\n",
       "      <td>1.000000</td>\n",
       "      <td>0.000000</td>\n",
       "      <td>0.000000</td>\n",
       "      <td>0.000000</td>\n",
       "      <td>1.000000</td>\n",
       "    </tr>\n",
       "    <tr>\n",
       "      <th>75%</th>\n",
       "      <td>1.000000</td>\n",
       "      <td>0.000000</td>\n",
       "      <td>0.000000</td>\n",
       "      <td>0.000000</td>\n",
       "      <td>2.000000</td>\n",
       "    </tr>\n",
       "    <tr>\n",
       "      <th>max</th>\n",
       "      <td>8.000000</td>\n",
       "      <td>265.000000</td>\n",
       "      <td>137.000000</td>\n",
       "      <td>125.000000</td>\n",
       "      <td>699.000000</td>\n",
       "    </tr>\n",
       "  </tbody>\n",
       "</table>\n",
       "</div>"
      ],
      "text/plain": [
       "       Number.of.Engines  Total.Fatal.Injuries  Total.Serious.Injuries  \\\n",
       "count       80373.000000          71594.000000            70873.000000   \n",
       "mean            1.135481              0.421683                0.257178   \n",
       "std             0.427286              2.433647                1.144189   \n",
       "min             0.000000              0.000000                0.000000   \n",
       "25%             1.000000              0.000000                0.000000   \n",
       "50%             1.000000              0.000000                0.000000   \n",
       "75%             1.000000              0.000000                0.000000   \n",
       "max             8.000000            265.000000              137.000000   \n",
       "\n",
       "       Total.Minor.Injuries  Total.Uninjured  \n",
       "count          71519.000000     77243.000000  \n",
       "mean               0.332974         4.302448  \n",
       "std                1.306604        23.794728  \n",
       "min                0.000000         0.000000  \n",
       "25%                0.000000         0.000000  \n",
       "50%                0.000000         1.000000  \n",
       "75%                0.000000         2.000000  \n",
       "max              125.000000       699.000000  "
      ]
     },
     "execution_count": 121,
     "metadata": {},
     "output_type": "execute_result"
    }
   ],
   "source": [
    "#Summary statistics\n",
    "df.describe()"
   ]
  },
  {
   "cell_type": "code",
   "execution_count": 122,
   "metadata": {},
   "outputs": [
    {
     "data": {
      "text/html": [
       "<div>\n",
       "<style scoped>\n",
       "    .dataframe tbody tr th:only-of-type {\n",
       "        vertical-align: middle;\n",
       "    }\n",
       "\n",
       "    .dataframe tbody tr th {\n",
       "        vertical-align: top;\n",
       "    }\n",
       "\n",
       "    .dataframe thead th {\n",
       "        text-align: right;\n",
       "    }\n",
       "</style>\n",
       "<table border=\"1\" class=\"dataframe\">\n",
       "  <thead>\n",
       "    <tr style=\"text-align: right;\">\n",
       "      <th></th>\n",
       "      <th>Location</th>\n",
       "      <th>Country</th>\n",
       "      <th>Injury.Severity</th>\n",
       "      <th>Aircraft.damage</th>\n",
       "      <th>Aircraft.Category</th>\n",
       "      <th>Make</th>\n",
       "      <th>Model</th>\n",
       "      <th>Amateur.Built</th>\n",
       "      <th>Engine.Type</th>\n",
       "      <th>Weather.Condition</th>\n",
       "      <th>Broad.phase.of.flight</th>\n",
       "      <th>Report.Status</th>\n",
       "    </tr>\n",
       "  </thead>\n",
       "  <tbody>\n",
       "    <tr>\n",
       "      <th>count</th>\n",
       "      <td>82237</td>\n",
       "      <td>82248</td>\n",
       "      <td>82140</td>\n",
       "      <td>80269</td>\n",
       "      <td>28154</td>\n",
       "      <td>82227</td>\n",
       "      <td>82210</td>\n",
       "      <td>82227</td>\n",
       "      <td>79206</td>\n",
       "      <td>81603</td>\n",
       "      <td>61158</td>\n",
       "      <td>79637</td>\n",
       "    </tr>\n",
       "    <tr>\n",
       "      <th>unique</th>\n",
       "      <td>23030</td>\n",
       "      <td>1</td>\n",
       "      <td>56</td>\n",
       "      <td>4</td>\n",
       "      <td>14</td>\n",
       "      <td>8001</td>\n",
       "      <td>11443</td>\n",
       "      <td>2</td>\n",
       "      <td>11</td>\n",
       "      <td>4</td>\n",
       "      <td>12</td>\n",
       "      <td>16974</td>\n",
       "    </tr>\n",
       "    <tr>\n",
       "      <th>top</th>\n",
       "      <td>ANCHORAGE, AK</td>\n",
       "      <td>United States</td>\n",
       "      <td>Non-Fatal</td>\n",
       "      <td>Substantial</td>\n",
       "      <td>Airplane</td>\n",
       "      <td>Cessna</td>\n",
       "      <td>152</td>\n",
       "      <td>No</td>\n",
       "      <td>Reciprocating</td>\n",
       "      <td>VMC</td>\n",
       "      <td>Landing</td>\n",
       "      <td>Probable Cause</td>\n",
       "    </tr>\n",
       "    <tr>\n",
       "      <th>freq</th>\n",
       "      <td>434</td>\n",
       "      <td>82248</td>\n",
       "      <td>64870</td>\n",
       "      <td>61675</td>\n",
       "      <td>24229</td>\n",
       "      <td>21573</td>\n",
       "      <td>2323</td>\n",
       "      <td>73906</td>\n",
       "      <td>68507</td>\n",
       "      <td>75317</td>\n",
       "      <td>15365</td>\n",
       "      <td>61189</td>\n",
       "    </tr>\n",
       "  </tbody>\n",
       "</table>\n",
       "</div>"
      ],
      "text/plain": [
       "             Location        Country Injury.Severity Aircraft.damage  \\\n",
       "count           82237          82248           82140           80269   \n",
       "unique          23030              1              56               4   \n",
       "top     ANCHORAGE, AK  United States       Non-Fatal     Substantial   \n",
       "freq              434          82248           64870           61675   \n",
       "\n",
       "       Aircraft.Category    Make  Model Amateur.Built    Engine.Type  \\\n",
       "count              28154   82227  82210         82227          79206   \n",
       "unique                14    8001  11443             2             11   \n",
       "top             Airplane  Cessna    152            No  Reciprocating   \n",
       "freq               24229   21573   2323         73906          68507   \n",
       "\n",
       "       Weather.Condition Broad.phase.of.flight   Report.Status  \n",
       "count              81603                 61158           79637  \n",
       "unique                 4                    12           16974  \n",
       "top                  VMC               Landing  Probable Cause  \n",
       "freq               75317                 15365           61189  "
      ]
     },
     "execution_count": 122,
     "metadata": {},
     "output_type": "execute_result"
    }
   ],
   "source": [
    "#Describe categorical features\n",
    "\n",
    "df.describe(include='object')"
   ]
  },
  {
   "cell_type": "code",
   "execution_count": 123,
   "metadata": {},
   "outputs": [
    {
     "data": {
      "text/plain": [
       "Index(['Location', 'Country', 'Injury.Severity', 'Aircraft.damage',\n",
       "       'Aircraft.Category', 'Make', 'Model', 'Amateur.Built',\n",
       "       'Number.of.Engines', 'Engine.Type', 'Total.Fatal.Injuries',\n",
       "       'Total.Serious.Injuries', 'Total.Minor.Injuries', 'Total.Uninjured',\n",
       "       'Weather.Condition', 'Broad.phase.of.flight', 'Report.Status'],\n",
       "      dtype='object')"
      ]
     },
     "execution_count": 123,
     "metadata": {},
     "output_type": "execute_result"
    }
   ],
   "source": [
    "#check the colunms in new DataFrame\n",
    "#check the colunms\n",
    "df.columns"
   ]
  },
  {
   "cell_type": "code",
   "execution_count": 124,
   "metadata": {},
   "outputs": [
    {
     "data": {
      "text/plain": [
       "Index(['location', 'country', 'injury.severity', 'aircraft.damage',\n",
       "       'aircraft.category', 'make', 'model', 'amateur.built',\n",
       "       'number.of.engines', 'engine.type', 'total.fatal.injuries',\n",
       "       'total.serious.injuries', 'total.minor.injuries', 'total.uninjured',\n",
       "       'weather.condition', 'broad.phase.of.flight', 'report.status'],\n",
       "      dtype='object')"
      ]
     },
     "execution_count": 124,
     "metadata": {},
     "output_type": "execute_result"
    }
   ],
   "source": [
    "#Change columns name to lower case for unifromity\n",
    "df.columns = df.columns.str.lower()\n",
    "df.columns"
   ]
  },
  {
   "cell_type": "code",
   "execution_count": 125,
   "metadata": {},
   "outputs": [],
   "source": [
    "\n",
    "# Replacing dots in column names with underscores\n",
    "df.columns = [col.replace('.', '_') for col in df.columns]"
   ]
  },
  {
   "cell_type": "code",
   "execution_count": 126,
   "metadata": {},
   "outputs": [
    {
     "data": {
      "text/plain": [
       "Index(['location', 'country', 'injury_severity', 'aircraft_damage',\n",
       "       'aircraft_category', 'make', 'model', 'amateur_built',\n",
       "       'number_of_engines', 'engine_type', 'total_fatal_injuries',\n",
       "       'total_serious_injuries', 'total_minor_injuries', 'total_uninjured',\n",
       "       'weather_condition', 'broad_phase_of_flight', 'report_status'],\n",
       "      dtype='object')"
      ]
     },
     "execution_count": 126,
     "metadata": {},
     "output_type": "execute_result"
    }
   ],
   "source": [
    "df.columns"
   ]
  },
  {
   "cell_type": "code",
   "execution_count": 127,
   "metadata": {},
   "outputs": [
    {
     "name": "stdout",
     "output_type": "stream",
     "text": [
      "          location        country injury_severity aircraft_damage  \\\n",
      "0  MOOSE CREEK, ID  United States        Fatal(2)       Destroyed   \n",
      "1   BRIDGEPORT, CA  United States        Fatal(4)       Destroyed   \n",
      "2    Saltville, VA  United States        Fatal(3)       Destroyed   \n",
      "3       EUREKA, CA  United States        Fatal(2)       Destroyed   \n",
      "4       Canton, OH  United States        Fatal(1)       Destroyed   \n",
      "\n",
      "  aircraft_category      make     model amateur_built  number_of_engines  \\\n",
      "0               NaN   Stinson     108-3            No                1.0   \n",
      "1               NaN     Piper  PA24-180            No                1.0   \n",
      "2               NaN    Cessna      172M            No                1.0   \n",
      "3               NaN  Rockwell       112            No                1.0   \n",
      "4               NaN    Cessna       501            No                NaN   \n",
      "\n",
      "     engine_type  total_fatal_injuries  total_serious_injuries  \\\n",
      "0  Reciprocating                   2.0                     0.0   \n",
      "1  Reciprocating                   4.0                     0.0   \n",
      "2  Reciprocating                   3.0                     NaN   \n",
      "3  Reciprocating                   2.0                     0.0   \n",
      "4            NaN                   1.0                     2.0   \n",
      "\n",
      "   total_minor_injuries  total_uninjured weather_condition  \\\n",
      "0                   0.0              0.0               UNK   \n",
      "1                   0.0              0.0               UNK   \n",
      "2                   NaN              NaN               IMC   \n",
      "3                   0.0              0.0               IMC   \n",
      "4                   NaN              0.0               VMC   \n",
      "\n",
      "  broad_phase_of_flight  \n",
      "0                Cruise  \n",
      "1               Unknown  \n",
      "2                Cruise  \n",
      "3                Cruise  \n",
      "4              Approach  \n"
     ]
    }
   ],
   "source": [
    "#dropping further columns not useful in my analysis\n",
    "\n",
    "# Drop the specified columns in place\n",
    "df.drop(['report_status'], axis=1, inplace=True)\n",
    "\n",
    "# Check the updated DataFrame\n",
    "print(df.head())"
   ]
  },
  {
   "cell_type": "markdown",
   "metadata": {},
   "source": [
    "### 2.2 Checking the missing values, duplicates and dealing with them"
   ]
  },
  {
   "cell_type": "code",
   "execution_count": 128,
   "metadata": {},
   "outputs": [
    {
     "data": {
      "text/plain": [
       "location                     11\n",
       "country                       0\n",
       "injury_severity             108\n",
       "aircraft_damage            1979\n",
       "aircraft_category         54094\n",
       "make                         21\n",
       "model                        38\n",
       "amateur_built                21\n",
       "number_of_engines          1875\n",
       "engine_type                3042\n",
       "total_fatal_injuries      10654\n",
       "total_serious_injuries    11375\n",
       "total_minor_injuries      10729\n",
       "total_uninjured            5005\n",
       "weather_condition           645\n",
       "broad_phase_of_flight     21090\n",
       "dtype: int64"
      ]
     },
     "execution_count": 128,
     "metadata": {},
     "output_type": "execute_result"
    }
   ],
   "source": [
    "#check the missing values in each column\n",
    "df.isnull().sum()"
   ]
  },
  {
   "cell_type": "code",
   "execution_count": 129,
   "metadata": {},
   "outputs": [
    {
     "name": "stdout",
     "output_type": "stream",
     "text": [
      "<class 'pandas.core.frame.DataFrame'>\n",
      "Index: 82248 entries, 0 to 88888\n",
      "Data columns (total 16 columns):\n",
      " #   Column                  Non-Null Count  Dtype  \n",
      "---  ------                  --------------  -----  \n",
      " 0   location                82237 non-null  object \n",
      " 1   country                 82248 non-null  object \n",
      " 2   injury_severity         82140 non-null  object \n",
      " 3   aircraft_damage         80269 non-null  object \n",
      " 4   aircraft_category       28154 non-null  object \n",
      " 5   make                    82227 non-null  object \n",
      " 6   model                   82210 non-null  object \n",
      " 7   amateur_built           82227 non-null  object \n",
      " 8   number_of_engines       80373 non-null  float64\n",
      " 9   engine_type             79206 non-null  object \n",
      " 10  total_fatal_injuries    71594 non-null  float64\n",
      " 11  total_serious_injuries  70873 non-null  float64\n",
      " 12  total_minor_injuries    71519 non-null  float64\n",
      " 13  total_uninjured         77243 non-null  float64\n",
      " 14  weather_condition       81603 non-null  object \n",
      " 15  broad_phase_of_flight   61158 non-null  object \n",
      "dtypes: float64(5), object(11)\n",
      "memory usage: 10.7+ MB\n"
     ]
    }
   ],
   "source": [
    "# an overview our data again\n",
    "df.info()"
   ]
  },
  {
   "cell_type": "code",
   "execution_count": 130,
   "metadata": {},
   "outputs": [
    {
     "name": "stderr",
     "output_type": "stream",
     "text": [
      "C:\\Users\\User\\AppData\\Local\\Temp\\ipykernel_9240\\1961790175.py:4: FutureWarning: A value is trying to be set on a copy of a DataFrame or Series through chained assignment using an inplace method.\n",
      "The behavior will change in pandas 3.0. This inplace method will never work because the intermediate object on which we are setting values always behaves as a copy.\n",
      "\n",
      "For example, when doing 'df[col].method(value, inplace=True)', try using 'df.method({col: value}, inplace=True)' or df[col] = df[col].method(value) instead, to perform the operation inplace on the original object.\n",
      "\n",
      "\n",
      "  df['location'].fillna('unknown',inplace=True)\n"
     ]
    },
    {
     "data": {
      "text/plain": [
       "np.int64(0)"
      ]
     },
     "execution_count": 130,
     "metadata": {},
     "output_type": "execute_result"
    }
   ],
   "source": [
    "#Location columns\n",
    "#imputting 'unknown' as a fized value in the column\n",
    "\n",
    "df['location'].fillna('unknown',inplace=True)\n",
    "df['location'].isna().sum() #all null values are removed"
   ]
  },
  {
   "cell_type": "code",
   "execution_count": 131,
   "metadata": {},
   "outputs": [
    {
     "name": "stdout",
     "output_type": "stream",
     "text": [
      "injury_severity\n",
      "Non-Fatal      65073\n",
      "Fatal          15179\n",
      "Incident        1873\n",
      "Unavailable       15\n",
      "Name: count, dtype: int64\n"
     ]
    }
   ],
   "source": [
    "#we just want t2o values fatal or non-fatal values\n",
    "# Now replace all records of Fatal(n) with 'Fatal'\n",
    "df['injury_severity'] = df['injury_severity'].replace(to_replace=r'Fatal\\(\\d+\\)', value='Fatal', regex=True)\n",
    "\n",
    "df['injury_severity']=df['injury_severity'].replace('Serious','Fatal')\n",
    "\n",
    "df['injury_severity']=df['injury_severity'].replace('Minor','Non-Fatal')\n",
    "\n",
    "#check to see if Fatal(n) have been changed\n",
    "df['injury_severity'].head(5)\n",
    "\n",
    "# Nan values were 108, drop rows with NaN values in 'injury_severity'\n",
    "df = df.dropna(subset=['injury_severity'])\n",
    "\n",
    "print(df['injury_severity'].value_counts())\n"
   ]
  },
  {
   "cell_type": "code",
   "execution_count": 132,
   "metadata": {},
   "outputs": [
    {
     "name": "stdout",
     "output_type": "stream",
     "text": [
      "injury_severity\n",
      "Non-Fatal      65073\n",
      "Fatal          15179\n",
      "Incident        1873\n",
      "Unavailable       15\n",
      "Name: count, dtype: int64\n",
      "aircraft_damage  injury_severity\n",
      "Minor            Incident           1193\n",
      "Substantial      Incident              6\n",
      "Destroyed        Incident              4\n",
      "Name: count, dtype: int64\n",
      "injury_severity\n",
      "Non-Fatal      66770\n",
      "Fatal          15203\n",
      "Incident         152\n",
      "Unavailable       15\n",
      "Name: count, dtype: int64\n",
      "injury_severity\n",
      "Non-Fatal    66770\n",
      "Fatal        15218\n",
      "Incident       152\n",
      "Name: count, dtype: int64\n"
     ]
    }
   ],
   "source": [
    "# Filter rows when 'injury_severity' is 'Incident' and select 'aircraft_damage'\n",
    "# Filtering rows where injury_severity is 'Incident' and checking how different levels of aircraft_damage (Minor, Substantial, Destroyed) correlate with injury_severity.\n",
    "#if minor impute values i.e 1179 to non-fatal values\n",
    "#if substantial and destroyed impute 7  to fatal\n",
    "\n",
    "print(df['injury_severity'].value_counts())\n",
    "\n",
    "new = df[df['injury_severity'] == 'Incident'][['aircraft_damage','injury_severity']]\n",
    "print(new.value_counts())\n",
    "#when aircraft damage waas minor there were 1179 we can add as the non_fatal in the injury_severtiy column and delete records of incident\n",
    "#when aircraft damage was substantial or destroyed we can impute as fatal in the injury_severtiy column and delete records of incident\n",
    "\n",
    "# Impute 'injury_severity' for 'Incident' rows based on 'aircraft_damage'\n",
    "\n",
    "df.loc[(df['aircraft_damage'] == 'Minor') & (df['injury_severity'] == 'Incident'), 'injury_severity'] = 'Non-Fatal'\n",
    "df.loc[(df['aircraft_damage'] == 'Substantial')  & (df['injury_severity'] == 'Incident'), 'injury_severity'] = 'Fatal'\n",
    "df.loc[(df['aircraft_damage'] ==  'Destroyed') & (df['injury_severity'] == 'Incident'), 'injury_severity'] = 'Fatal'\n",
    "\n",
    "#using total_fatal_injuries to check the injury_severity\n",
    "by_fatality = df[(df['injury_severity'] == 'Incident') & (~df['total_fatal_injuries'].isna())][['total_fatal_injuries','injury_severity']]\n",
    "by_fatality[by_fatality['total_fatal_injuries']==1]\n",
    "by_fatality.dropna() \n",
    "\n",
    "#impute non-fatal in injury_severity where total_fatal_injuries =0\n",
    "#impute fatal to injury_severity where total_fatal_injuries=1\n",
    "df.loc[(by_fatality['total_fatal_injuries'] == 0) & (df['injury_severity'] == 'Incident'), 'injury_severity'] = 'Non-Fatal'\n",
    "df.loc[(by_fatality['total_fatal_injuries'] == 1) & (df['injury_severity'] == 'Incident'), 'injury_severity'] = 'Fatal'\n",
    "\n",
    "#using total_serious_injuries  to check the injury_severity\n",
    "#impute fatal if serious_injury=1 else non-fatal = 0\n",
    "by_serious_injury= df[(df['injury_severity'] == 'Incident') & (~df['total_serious_injuries'].isna())][['total_serious_injuries','injury_severity']]\n",
    "df.loc[(by_serious_injury['total_serious_injuries'] == 0) & (df['injury_severity'] == 'Incident'), 'injury_severity'] = 'Non-Fatal'\n",
    "df.loc[(by_serious_injury['total_serious_injuries'] == 1) & (df['injury_severity'] == 'Incident'), 'injury_severity'] = 'Fatal'\n",
    "\n",
    "\n",
    "\n",
    "# check the result after imputation\n",
    "print(df['injury_severity'].value_counts())\n",
    "\n",
    "#Filtering rows where injury_severity is 'unavailable' and checking how different levels of aircraft_damage (Minor, Substantial, Destroyed) correlate with injury_severity.\n",
    "\n",
    "# Step 1: Impute based on 'aircraft_damage'\n",
    "df.loc[(df['aircraft_damage'] == 'Minor') & (df['injury_severity'] == 'Unavailable'), 'injury_severity'] = 'Non-Fatal'\n",
    "df.loc[(df['aircraft_damage'].isin(['Substantial', 'Destroyed'])) & (df['injury_severity'] == 'Unavailable'), 'injury_severity'] = 'Fatal'\n",
    "\n",
    "# Step 2: Impute based on 'total_fatal_injuries'\n",
    "df.loc[(df['total_fatal_injuries'] == 0) & (df['injury_severity'] == 'Unavailable'), 'injury_severity'] = 'Non-Fatal'\n",
    "df.loc[(df['total_fatal_injuries'] == 1) & (df['injury_severity'] == 'Unavailable'), 'injury_severity'] = 'Fatal'\n",
    "\n",
    "# Step 3: Impute based on 'total_serious_injuries'\n",
    "df.loc[(df['total_serious_injuries'] == 0) & (df['injury_severity'] == 'Unavailable'), 'injury_severity'] = 'Non-Fatal'\n",
    "df.loc[(df['total_serious_injuries'] == 1) & (df['injury_severity'] == 'Unavailable'), 'injury_severity'] = 'Fatal'\n",
    "\n",
    "# Final counts for 'injury_severity'\n",
    "\n",
    "print(df['injury_severity'].value_counts())\n",
    "\n",
    "\n",
    "\n",
    "\n",
    "\n",
    "\n"
   ]
  },
  {
   "cell_type": "code",
   "execution_count": 133,
   "metadata": {},
   "outputs": [
    {
     "name": "stdout",
     "output_type": "stream",
     "text": [
      "15\n",
      "0\n",
      "make\n",
      "Cessna               21572\n",
      "Piper                11661\n",
      "CESSNA                4264\n",
      "Beech                 4167\n",
      "PIPER                 2504\n",
      "                     ...  \n",
      "PHANTOM                  1\n",
      "GREG HOBBS               1\n",
      "JAMES R DERNOVSEK        1\n",
      "ORLICAN S R O            1\n",
      "WILSON                   1\n",
      "Name: count, Length: 7996, dtype: int64\n",
      "make\n",
      "cessna               25836\n",
      "piper                14165\n",
      "beech                 5055\n",
      "bell                  2283\n",
      "boeing                1455\n",
      "                     ...  \n",
      "phantom                  1\n",
      "greg hobbs               1\n",
      "james r dernovsek        1\n",
      "orlican s r o            1\n",
      "pollack                  1\n",
      "Name: count, Length: 7399, dtype: int64\n"
     ]
    }
   ],
   "source": [
    "#make columns\n",
    "print(df.make.isna().sum())\n",
    "#2 missing values in a category of planes, drop it affects analysis when make is unknown\n",
    "df.dropna(subset='make',inplace=True)\n",
    "#check\n",
    "print(df['make'].isna().sum())\n",
    "print(df['make'].value_counts())\n",
    "#CESSNA similar to Cessna only thats in Uppercase\n",
    "# Convert the 'make' column to lowercase\n",
    "df['make'] = df['make'].str.lower()\n",
    "#print the value counts after normalizing the case\n",
    "print(df['make'].value_counts())\n",
    "#value of cessna is okay"
   ]
  },
  {
   "cell_type": "code",
   "execution_count": 134,
   "metadata": {},
   "outputs": [
    {
     "name": "stdout",
     "output_type": "stream",
     "text": [
      "54061\n",
      "aircraft_category\n",
      "Airplane             24142\n",
      "Helicopter            2720\n",
      "Glider                 503\n",
      "Balloon                229\n",
      "Gyrocraft              172\n",
      "Weight-Shift           161\n",
      "Powered Parachute       90\n",
      "Ultralight              25\n",
      "WSFT                     9\n",
      "Unknown                  4\n",
      "Blimp                    4\n",
      "Powered-Lift             3\n",
      "Rocket                   1\n",
      "ULTR                     1\n",
      "Name: count, dtype: int64\n",
      "15546\n",
      "aircraft_category\n",
      "Airplane             58952\n",
      "Helicopter            6425\n",
      "Glider                 503\n",
      "Balloon                229\n",
      "Gyrocraft              172\n",
      "Weight-Shift           161\n",
      "Powered Parachute       90\n",
      "Ultralight              25\n",
      "WSFT                     9\n",
      "Unknown                  4\n",
      "Blimp                    4\n",
      "Powered-Lift             3\n",
      "Rocket                   1\n",
      "ULTR                     1\n",
      "Name: count, dtype: int64\n"
     ]
    }
   ],
   "source": [
    "# aircraft_category column represents aeroplanes in our data\n",
    "print(df['aircraft_category'].isna().sum())\n",
    "print(df['aircraft_category'].value_counts())\n",
    "\n",
    "\n",
    "\n",
    "# using the relationship between make,model and number of engines to fil some null values\n",
    "# step 1 by 'make'\n",
    "# use the relationship between make and aircraft_category to fill missing values\n",
    "# using make to manually fill missing values \n",
    "df.make.value_counts()\n",
    "airplanes = [\n",
    "    'socata', 'cirrus', 'dehavilland', 'lockheed', 'globe', 'weatherly',\n",
    "    'learjet', 'schempp-hirth', 'ercoupe', 'wsk pzl mielec', 'aerostar',\n",
    "    'raven', 'airbus', 'navion','cessna','piper' 'pitts', 'british aerospace',\n",
    "    'aviat aircraft inc', 'american', 'diamond aircraft ind inc',\n",
    "    'rockwell international', 'cirrus design corp.', 'raytheon aircraft company',\n",
    "    'great lakes', 'gulfstream', 'mbb', 'gates learjet', 'grumman acft eng cor-schweizer',\n",
    "    'canadair', 'american champion aircraft', 'gulfstream american',\n",
    "    'boeing stearman', 'smith, ted aerostar', 'flight design gmbh',\n",
    "    'grumman american avn. corp.', 'bombardier inc', 'aerotek', 'fokker',\n",
    "    'bombardier', 'ayres corporation', 'pilatus', 'yakovlev', 'christen industries',\n",
    "    'rolladen-schneider', 'diamond',    'kitfox', 'bensen', 'pitts special', 'jones', 'rotec', 'burkhart grob flugzeugbau', \n",
    "    'aerostar international', 'czech aircraft works spol sro', 'christen industries inc', \n",
    "    'columbia aircraft mfg', 'consolidated-vultee', 'nanchang', 'aerostar international inc', \n",
    "    'kolb', 'cameron balloons us', 'dassault aviation', 'atr', 'ultramagic', \n",
    "    'airborne windsports pty ltd', 'titan', 'howard aircraft corp.', 'pterodactyl', 'eagle', \n",
    "    'mitchell', 'cassutt', 'pietenpol', 'commander', 'remos aircraft gmbh', 'naval aircraft factory', \n",
    "    'aerofab inc.', 'air & space', 'morrisey', 'textron aviation inc', 'thrush aircraft inc', \n",
    "    'weedhopper', 'brown', 'young', 'vans aircraft inc', 'pzl-bielsko', 'czech sport aircraft as', \n",
    "    'maxair', 'hawker beechcraft corp', 'bede aircraft', 'centrair', 'tecnam', 'curtiss wright', \n",
    "    'aeropro cz', 'fisher', 'anderson aircraft corp.', 'universal stinson', 'velocity', 'erco', \n",
    "    'clark', 'extra', 'hall', 'mcculloch', 'hispano aviacion', 'aircraft mfg & dev. co. (amd)', \n",
    "    'taylor', 'extra flugzeugbau gmbh', 'bushby', 'blanik', 'partenavia', 'avid aircraft', \n",
    "    'fairchild swearingen', 'rose', 'north wing', 'aviat inc', 'gulfstream american corp', \n",
    "    'grob', 'aero vodochody aero. works', 'evans aircraft', 'nord (sncan)', 'starduster', \n",
    "    'meyers aircraft co.', 'steen', 'weber', 'american aerolights', 'williams', 'chance vought', \n",
    "    'american champion', 'lindstrand', 'piccard', 'wilson', 'monnett', 'mooney airplane co inc', \n",
    "    'rans, inc.', 'raytheon corporate jets', 'lancair company',    'saab-scania ab (saab)', 'consolidated aeronautics inc.', 'alon', \n",
    "    'fairchild hiller', 'siai-marchetti', 'republic', 'convair', 'mooney aircraft corp.',\n",
    "    'quicksilver', 'american champion (acac)', 'snow', \n",
    "    'costruzioni aeronautiche tecna', 'short brothers', 'evektor-aerotechnik as',\n",
    "    'glasflugel', 'continental copters', 'temco', 'britten-norman', 'flight design',\n",
    "    'beechcraft', 'israel aircraft industries', 'i.c.a. brasov', 'smith', 'stearman',\n",
    "    'callair', 'hawker siddeley', 'gulfstream-schweizer', 'cameron balloons',\n",
    "    'american aviation', 'dornier', 'cessna aircraft co', 'varga', 'thunder and colt',\n",
    "    'american aviation corp. (aac)', 'pzl-mielec', 'dassault', 'raytheon', 'piper aircraft inc',\n",
    "    'garlick', 'bombardier, inc.', 'eiriavion oy', 'engineering & research', 'curtiss-wright',\n",
    "    'silvaire', 'cubcrafters inc', 'schweizer aircraft corp', 'interstate', 'cub crafters inc',\n",
    "    'barnes', 'extra flugzeugbau', 'glaser-dirks', 'aero vodochody', 'cub crafters', \n",
    "    'lindstrand balloons', 'sukhoi', 'eipper', 'dassault-breguet', 'culver', 'artic aircraft corp.',\n",
    "    'gulfstream aerospace', 'rans', 'american legend aircraft co', 'adams', 'pipistrel', \n",
    "    'airborne', 'classic aircraft corp.', 'american general aircraft', 'forney', 'fleet', \n",
    "    'buckeye', 'burkhart grob flugzeugbau', 'consolidated-vultee', 'columbia aircraft mfg',\n",
    "    'air creation', 'czech aircraft works spol sro', 'nanchang', 'aerostar international',\n",
    "    'aerostar international inc', 'ultramagic', 'dassault aviation', 'eagle', \n",
    "    'christen industries inc', 'airborne windsports pty ltd', 'naval aircraft factory', \n",
    "    'commander', 'atr', 'remos aircraft gmbh', 'aerofab inc.', 'air & space',\n",
    "    'boeing','mooney','grumman','bellanca',\n",
    "    'glider','north american', 'aerospatiale', 'rockwell', 'grumman american', 'douglas', 'air tractor inc', 'ayres', 'cirrus design corp', \n",
    "    'beech','North American', 'Aerospatiale', 'Rockwell', 'Douglas', 'Air Tractor Inc', 'Ayres', 'Grumman American',\n",
    "    'schweizer', 'air tractor', 'aeronca', 'maule', 'champion','mcdonnell douglas', 'stinson', 'luscombe', 'aero commander','taylorcraft', 'de havilland',\n",
    "    'embraer', 'fairchild', 'schleicher', 'lake', 'waco', 'aviat', 'mitsubishi', 'let', 'grumman-schweizer', 'burkhart grob', 'ryan', 'helio', 'airbus industrie'\n",
    "]\n",
    "helicopter=[\n",
    "        'brantly helicopter', 'mcdonnell douglas helicopter', 'texas helicopter', 'md helicopter',\n",
    "    'bell helicopter textron', 'eurocopter deutschland gmbh', 'bell helicopter textron canada',\n",
    "    'robinson helicopter co', 'mcdonnell douglas heli co', 'texas helicopter corp', 'garlick helicopters inc', \n",
    "    'hiller-soloy', 'powrachute', 'thompson', 'monocoupe aircraft', 'american legend',\n",
    "    'bell','hughes','Hiller', 'Enstrom', 'Robinson Helicopter','robinson','agusta',\n",
    "    'hiller', 'enstrom', 'robinson helicopter', 'agusta', 'eagle aircraft co.', 'eurocopter france','grumman american', \n",
    "    'douglas', 'air tractor inc', 'ayres', 'cirrus design corp', 'eurocopter', 'robinson helicopter company', 'sikorsky'\n",
    "]\n",
    "\n",
    "df.loc[(df['aircraft_category'].isna()) & (df['make'].isin(airplanes)), 'aircraft_category'] = 'Airplane'\n",
    "df.loc[(df['aircraft_category'].isna()) & (df['make'].isin(helicopter)), 'aircraft_category'] = 'Helicopter'\n",
    "\n",
    "\n",
    "# check\n",
    "print(df['aircraft_category'].isna().sum())\n",
    "print(df['aircraft_category'].value_counts())\n",
    "\n"
   ]
  },
  {
   "cell_type": "code",
   "execution_count": 135,
   "metadata": {},
   "outputs": [],
   "source": [
    "#use amateur_built to filter out plane,model and built data\n",
    "df.drop(df[df['amateur_built'] == 'Yes'].index, inplace=True)\n",
    "\n",
    "#drop the column\n",
    "df.drop('amateur_built',axis=1,inplace=True)\n",
    "\n"
   ]
  },
  {
   "cell_type": "code",
   "execution_count": 136,
   "metadata": {},
   "outputs": [
    {
     "name": "stdout",
     "output_type": "stream",
     "text": [
      "8\n",
      "0\n"
     ]
    }
   ],
   "source": [
    "#model column\n",
    "print(df.model.isna().sum())\n",
    "#there are 7 missing values, we will drop them \n",
    "#drop the missing model values\n",
    "df.dropna(subset='model',inplace=True)\n",
    "#check\n",
    "print(df.model.isna().sum())"
   ]
  },
  {
   "cell_type": "code",
   "execution_count": 137,
   "metadata": {},
   "outputs": [
    {
     "name": "stdout",
     "output_type": "stream",
     "text": [
      "1624\n",
      "0\n"
     ]
    }
   ],
   "source": [
    "#number_of_engines column\n",
    "print(df['number_of_engines'].isna().sum())\n",
    "no_engine=df[df['number_of_engines'].isna()][['make','model']]\n",
    "\n",
    "#using manual imputation to fill this values\n",
    "# Aircraft with no engines (gliders and balloons)\n",
    "no_engines_aircraft = ['Schweizer', 'Balloon Works', 'Let','I.C.A. Brasov','Burkhart Grob','Cameron','Rolladen-Schneider', 'Schleicher','schempp-hirth' ]\n",
    "no_engine=[char.lower() for char in no_engines_aircraft]\n",
    "\n",
    "# Aircraft with one engine\n",
    "one_engine_aircraft = ['Beech', 'Cirrus', 'Cessna','Bell','piper']\n",
    "one_engine=[char.lower() for char in one_engine_aircraft]\n",
    "one_model=[\"C-23\", \"90\", \"F35\", \"B19\", \"D35\", \"A36\", \"35\", \"F33\", \"V35\", \"23\"\n",
    "    \"RX-7\", \"S-66A\", \"S-60A\", \"RX-8\", \"RAVEN 560\", \"S-77A\", \"S-81-A\", \"RAVEN S49A\", \n",
    "    \"RAVEN S57-A\", \"RX 8\", \"RXS-8\", \"S-55A\", \"RALLY RX-8\", \"RALLY RX-7\", \"S-71A\", \n",
    "    \"RX-9\",'RX-7', 'RX-6', 'AX-9', 'S60A', 'S77A','S55A','AX7',' R-7 '\n",
    "           ]\n",
    "\n",
    "# Aircraft with 2 engines\n",
    "two_engines = [\n",
    "    \"B-737-500\", \"B-737-201\", \"767-300ER\", \"757\", \n",
    "    \"737-500\", \"E75\", \"B75N1\", \"737-300\", \"737-400\", \n",
    "    \"B757\", \"737-300\", \"737-322\", \"737-300\", \"737-700\", \n",
    "    \"737\", \"757-232\", \"737-700\", \"B757-200\", \"757-200\", \n",
    "    \"737-300\", \"787\", \"757\", \"E75\", \"A75N1(PT17)\", \n",
    "    \"767 424ER\", \"737\", \"767\", \"707 338C\", \"767 432ER\", \n",
    "    \"767\", \"737\", \"757\", \"747\", \"757\", \"787\", \n",
    "    \"737\", \"B75\", \"777\",'CL 600 2C10','CL-600-2D24','CL-600-2B19'\n",
    "]\n",
    "\n",
    "two_engines_brand=['embraer']\n",
    "\n",
    "# Aircraft with 4 engines\n",
    "four_engines = [\"747\"]\n",
    "\n",
    "\n",
    "#imputting\n",
    "df.loc[(df['number_of_engines'].isna()) & (df['make'].isin(no_engine)), 'number_of_engines'] = 0.0\n",
    "df.loc[(df['number_of_engines'].isna()) & (df['make'].isin(one_engine_aircraft) | df['model'].isin(one_model)), 'number_of_engines'] = 1.0\n",
    "df.loc[(df['number_of_engines'].isna()) & (df['model'].isin(two_engines)) | df['make'].isin(two_engines_brand), 'number_of_engines'] = 2.0\n",
    "df.loc[(df['number_of_engines'].isna()) & (df['model'].isin(four_engines)), 'number_of_engines'] = 4.0\n",
    "\n",
    "\n",
    "#imput the remaining with the mean\n",
    "df.fillna(df['number_of_engines'].mean(),inplace=True)\n",
    "\n",
    "#check\n",
    "print(df['number_of_engines'].isna().sum())"
   ]
  },
  {
   "cell_type": "code",
   "execution_count": 138,
   "metadata": {},
   "outputs": [
    {
     "data": {
      "text/plain": [
       "Index(['location', 'country', 'injury_severity', 'aircraft_damage',\n",
       "       'aircraft_category', 'make', 'model', 'number_of_engines',\n",
       "       'total_fatal_injuries', 'total_serious_injuries',\n",
       "       'total_minor_injuries', 'total_uninjured', 'weather_condition',\n",
       "       'broad_phase_of_flight'],\n",
       "      dtype='object')"
      ]
     },
     "execution_count": 138,
     "metadata": {},
     "output_type": "execute_result"
    }
   ],
   "source": [
    "#dropping the engine_type column, not useful for analysis \n",
    "#info on plane chosen will include engine info.\n",
    "df.drop('engine_type',axis=1,inplace=True)\n",
    "#check\n",
    "df.columns\n",
    "\n"
   ]
  },
  {
   "cell_type": "code",
   "execution_count": 139,
   "metadata": {},
   "outputs": [
    {
     "name": "stdout",
     "output_type": "stream",
     "text": [
      "0\n"
     ]
    }
   ],
   "source": [
    "#weather conditions column\n",
    "print(df.weather_condition.isna().sum())\n",
    "#we cannot assume the weather during a crash so we will drop this values so as not to influence our analysis\n",
    "#dropping this column\n",
    "df.drop('weather_condition',axis=1,inplace=True)\n"
   ]
  },
  {
   "cell_type": "code",
   "execution_count": 140,
   "metadata": {},
   "outputs": [
    {
     "data": {
      "text/plain": [
       "Index(['location', 'country', 'injury_severity', 'aircraft_damage',\n",
       "       'aircraft_category', 'make', 'model', 'number_of_engines',\n",
       "       'total_fatal_injuries', 'total_serious_injuries',\n",
       "       'total_minor_injuries', 'total_uninjured', 'phase_of_flight'],\n",
       "      dtype='object')"
      ]
     },
     "execution_count": 140,
     "metadata": {},
     "output_type": "execute_result"
    }
   ],
   "source": [
    "# broad_phase_of_flight\n",
    "df['broad_phase_of_flight']\n",
    "#name is too long edit\n",
    "df.columns=df.columns.str.replace('broad_phase_of_flight','phase_of_flight')\n",
    "#check\n",
    "df.columns"
   ]
  },
  {
   "cell_type": "code",
   "execution_count": 141,
   "metadata": {},
   "outputs": [
    {
     "name": "stderr",
     "output_type": "stream",
     "text": [
      "C:\\Users\\User\\AppData\\Local\\Temp\\ipykernel_9240\\3951411980.py:6: FutureWarning: A value is trying to be set on a copy of a DataFrame or Series through chained assignment using an inplace method.\n",
      "The behavior will change in pandas 3.0. This inplace method will never work because the intermediate object on which we are setting values always behaves as a copy.\n",
      "\n",
      "For example, when doing 'df[col].method(value, inplace=True)', try using 'df.method({col: value}, inplace=True)' or df[col] = df[col].method(value) instead, to perform the operation inplace on the original object.\n",
      "\n",
      "\n",
      "  df['phase_of_flight'].fillna('Unknown',inplace=True)\n"
     ]
    },
    {
     "data": {
      "text/plain": [
       "np.int64(0)"
      ]
     },
     "execution_count": 141,
     "metadata": {},
     "output_type": "execute_result"
    }
   ],
   "source": [
    "#checking null values in phase_of_flight column\n",
    "\n",
    "df['phase_of_flight'].isna().sum()\n",
    "\n",
    "#impute mean with fixed value\n",
    "df['phase_of_flight'].fillna('Unknown',inplace=True)\n",
    "\n",
    "#check\n",
    "\n",
    "df['phase_of_flight'].isna().sum()"
   ]
  },
  {
   "cell_type": "code",
   "execution_count": 142,
   "metadata": {},
   "outputs": [
    {
     "data": {
      "text/plain": [
       "location                0\n",
       "country                 0\n",
       "injury_severity         0\n",
       "aircraft_damage         0\n",
       "aircraft_category       0\n",
       "make                    0\n",
       "model                   0\n",
       "number_of_engines       0\n",
       "total_fatal_injuries    0\n",
       "phase_of_flight         0\n",
       "dtype: int64"
      ]
     },
     "execution_count": 142,
     "metadata": {},
     "output_type": "execute_result"
    }
   ],
   "source": [
    "#drop some additional column not useful in our analysis\n",
    "df.drop(['total_serious_injuries','total_minor_injuries','total_uninjured'],axis=1,inplace=True)\n",
    "#dealt with all null values in dataframe\n",
    "df.isna().sum()"
   ]
  },
  {
   "cell_type": "code",
   "execution_count": 143,
   "metadata": {},
   "outputs": [],
   "source": [
    "# Remove duplicates\n",
    "df.drop_duplicates(inplace=True)"
   ]
  },
  {
   "cell_type": "code",
   "execution_count": 144,
   "metadata": {},
   "outputs": [
    {
     "data": {
      "text/html": [
       "<div>\n",
       "<style scoped>\n",
       "    .dataframe tbody tr th:only-of-type {\n",
       "        vertical-align: middle;\n",
       "    }\n",
       "\n",
       "    .dataframe tbody tr th {\n",
       "        vertical-align: top;\n",
       "    }\n",
       "\n",
       "    .dataframe thead th {\n",
       "        text-align: right;\n",
       "    }\n",
       "</style>\n",
       "<table border=\"1\" class=\"dataframe\">\n",
       "  <thead>\n",
       "    <tr style=\"text-align: right;\">\n",
       "      <th></th>\n",
       "      <th>location</th>\n",
       "      <th>country</th>\n",
       "      <th>injury_severity</th>\n",
       "      <th>aircraft_damage</th>\n",
       "      <th>aircraft_category</th>\n",
       "      <th>make</th>\n",
       "      <th>model</th>\n",
       "      <th>number_of_engines</th>\n",
       "      <th>total_fatal_injuries</th>\n",
       "      <th>phase_of_flight</th>\n",
       "    </tr>\n",
       "  </thead>\n",
       "  <tbody>\n",
       "    <tr>\n",
       "      <th>0</th>\n",
       "      <td>MOOSE CREEK, ID</td>\n",
       "      <td>United States</td>\n",
       "      <td>Fatal</td>\n",
       "      <td>Destroyed</td>\n",
       "      <td>Airplane</td>\n",
       "      <td>stinson</td>\n",
       "      <td>108-3</td>\n",
       "      <td>1.000000</td>\n",
       "      <td>2.000000</td>\n",
       "      <td>Cruise</td>\n",
       "    </tr>\n",
       "    <tr>\n",
       "      <th>1</th>\n",
       "      <td>BRIDGEPORT, CA</td>\n",
       "      <td>United States</td>\n",
       "      <td>Fatal</td>\n",
       "      <td>Destroyed</td>\n",
       "      <td>1.141778</td>\n",
       "      <td>piper</td>\n",
       "      <td>PA24-180</td>\n",
       "      <td>1.000000</td>\n",
       "      <td>4.000000</td>\n",
       "      <td>Unknown</td>\n",
       "    </tr>\n",
       "    <tr>\n",
       "      <th>2</th>\n",
       "      <td>Saltville, VA</td>\n",
       "      <td>United States</td>\n",
       "      <td>Fatal</td>\n",
       "      <td>Destroyed</td>\n",
       "      <td>Airplane</td>\n",
       "      <td>cessna</td>\n",
       "      <td>172M</td>\n",
       "      <td>1.000000</td>\n",
       "      <td>3.000000</td>\n",
       "      <td>Cruise</td>\n",
       "    </tr>\n",
       "    <tr>\n",
       "      <th>3</th>\n",
       "      <td>EUREKA, CA</td>\n",
       "      <td>United States</td>\n",
       "      <td>Fatal</td>\n",
       "      <td>Destroyed</td>\n",
       "      <td>Airplane</td>\n",
       "      <td>rockwell</td>\n",
       "      <td>112</td>\n",
       "      <td>1.000000</td>\n",
       "      <td>2.000000</td>\n",
       "      <td>Cruise</td>\n",
       "    </tr>\n",
       "    <tr>\n",
       "      <th>4</th>\n",
       "      <td>Canton, OH</td>\n",
       "      <td>United States</td>\n",
       "      <td>Fatal</td>\n",
       "      <td>Destroyed</td>\n",
       "      <td>Airplane</td>\n",
       "      <td>cessna</td>\n",
       "      <td>501</td>\n",
       "      <td>1.141778</td>\n",
       "      <td>1.000000</td>\n",
       "      <td>Approach</td>\n",
       "    </tr>\n",
       "    <tr>\n",
       "      <th>5</th>\n",
       "      <td>BOSTON, MA</td>\n",
       "      <td>United States</td>\n",
       "      <td>Non-Fatal</td>\n",
       "      <td>Substantial</td>\n",
       "      <td>Airplane</td>\n",
       "      <td>mcdonnell douglas</td>\n",
       "      <td>DC9</td>\n",
       "      <td>2.000000</td>\n",
       "      <td>1.141778</td>\n",
       "      <td>Climb</td>\n",
       "    </tr>\n",
       "    <tr>\n",
       "      <th>6</th>\n",
       "      <td>COTTON, MN</td>\n",
       "      <td>United States</td>\n",
       "      <td>Fatal</td>\n",
       "      <td>Destroyed</td>\n",
       "      <td>Airplane</td>\n",
       "      <td>cessna</td>\n",
       "      <td>180</td>\n",
       "      <td>1.000000</td>\n",
       "      <td>4.000000</td>\n",
       "      <td>Unknown</td>\n",
       "    </tr>\n",
       "    <tr>\n",
       "      <th>7</th>\n",
       "      <td>PULLMAN, WA</td>\n",
       "      <td>United States</td>\n",
       "      <td>Non-Fatal</td>\n",
       "      <td>Substantial</td>\n",
       "      <td>Airplane</td>\n",
       "      <td>cessna</td>\n",
       "      <td>140</td>\n",
       "      <td>1.000000</td>\n",
       "      <td>0.000000</td>\n",
       "      <td>Takeoff</td>\n",
       "    </tr>\n",
       "    <tr>\n",
       "      <th>8</th>\n",
       "      <td>EAST HANOVER, NJ</td>\n",
       "      <td>United States</td>\n",
       "      <td>Non-Fatal</td>\n",
       "      <td>Substantial</td>\n",
       "      <td>Airplane</td>\n",
       "      <td>cessna</td>\n",
       "      <td>401B</td>\n",
       "      <td>2.000000</td>\n",
       "      <td>0.000000</td>\n",
       "      <td>Landing</td>\n",
       "    </tr>\n",
       "    <tr>\n",
       "      <th>9</th>\n",
       "      <td>JACKSONVILLE, FL</td>\n",
       "      <td>United States</td>\n",
       "      <td>Non-Fatal</td>\n",
       "      <td>Substantial</td>\n",
       "      <td>Airplane</td>\n",
       "      <td>north american</td>\n",
       "      <td>NAVION L-17B</td>\n",
       "      <td>1.000000</td>\n",
       "      <td>0.000000</td>\n",
       "      <td>Cruise</td>\n",
       "    </tr>\n",
       "  </tbody>\n",
       "</table>\n",
       "</div>"
      ],
      "text/plain": [
       "           location        country injury_severity aircraft_damage  \\\n",
       "0   MOOSE CREEK, ID  United States           Fatal       Destroyed   \n",
       "1    BRIDGEPORT, CA  United States           Fatal       Destroyed   \n",
       "2     Saltville, VA  United States           Fatal       Destroyed   \n",
       "3        EUREKA, CA  United States           Fatal       Destroyed   \n",
       "4        Canton, OH  United States           Fatal       Destroyed   \n",
       "5        BOSTON, MA  United States       Non-Fatal     Substantial   \n",
       "6        COTTON, MN  United States           Fatal       Destroyed   \n",
       "7       PULLMAN, WA  United States       Non-Fatal     Substantial   \n",
       "8  EAST HANOVER, NJ  United States       Non-Fatal     Substantial   \n",
       "9  JACKSONVILLE, FL  United States       Non-Fatal     Substantial   \n",
       "\n",
       "  aircraft_category               make         model  number_of_engines  \\\n",
       "0          Airplane            stinson         108-3           1.000000   \n",
       "1          1.141778              piper      PA24-180           1.000000   \n",
       "2          Airplane             cessna          172M           1.000000   \n",
       "3          Airplane           rockwell           112           1.000000   \n",
       "4          Airplane             cessna           501           1.141778   \n",
       "5          Airplane  mcdonnell douglas           DC9           2.000000   \n",
       "6          Airplane             cessna           180           1.000000   \n",
       "7          Airplane             cessna           140           1.000000   \n",
       "8          Airplane             cessna          401B           2.000000   \n",
       "9          Airplane     north american  NAVION L-17B           1.000000   \n",
       "\n",
       "   total_fatal_injuries phase_of_flight  \n",
       "0              2.000000          Cruise  \n",
       "1              4.000000         Unknown  \n",
       "2              3.000000          Cruise  \n",
       "3              2.000000          Cruise  \n",
       "4              1.000000        Approach  \n",
       "5              1.141778           Climb  \n",
       "6              4.000000         Unknown  \n",
       "7              0.000000         Takeoff  \n",
       "8              0.000000         Landing  \n",
       "9              0.000000          Cruise  "
      ]
     },
     "execution_count": 144,
     "metadata": {},
     "output_type": "execute_result"
    }
   ],
   "source": [
    "#create copy for Exploratory Data Analysis\n",
    "df_eda = df.copy(deep=True)\n",
    "df_eda.head(10)"
   ]
  },
  {
   "cell_type": "code",
   "execution_count": 145,
   "metadata": {},
   "outputs": [
    {
     "data": {
      "text/plain": [
       "location                0\n",
       "country                 0\n",
       "injury_severity         0\n",
       "aircraft_damage         0\n",
       "aircraft_category       0\n",
       "make                    0\n",
       "model                   0\n",
       "number_of_engines       0\n",
       "total_fatal_injuries    0\n",
       "phase_of_flight         0\n",
       "dtype: int64"
      ]
     },
     "execution_count": 145,
     "metadata": {},
     "output_type": "execute_result"
    }
   ],
   "source": [
    "df_eda.isna().sum()"
   ]
  },
  {
   "cell_type": "code",
   "execution_count": 146,
   "metadata": {},
   "outputs": [
    {
     "data": {
      "text/plain": [
       "(72383, 10)"
      ]
     },
     "execution_count": 146,
     "metadata": {},
     "output_type": "execute_result"
    }
   ],
   "source": [
    "df_eda.shape"
   ]
  },
  {
   "cell_type": "code",
   "execution_count": 147,
   "metadata": {},
   "outputs": [],
   "source": [
    "#save file for analysis in Tablaeu\n",
    "df.to_csv('cleaned_aircraft_data.csv', index=False)"
   ]
  },
  {
   "cell_type": "markdown",
   "metadata": {},
   "source": [
    "# Exploratory Data Analysis"
   ]
  },
  {
   "cell_type": "markdown",
   "metadata": {},
   "source": [
    "## 1. Univeriate Analysis\n",
    "\n",
    "Analyse individual columns one by one\n",
    "\n",
    "Goals:\n",
    "\n",
    "Identify and recommend the safest, lowest-risk aircraft for commercial and private aviation to help expand into new markets while minimizing potential financial and reputational risks associated with aviation accidents.\n",
    "\n",
    "Analyze historical aviation accident data to determine patterns and identify aircraft models associated with the highest and lowest risks.\n",
    "\n",
    "Investigate the relationship between accident frequency and the severity of passenger and crew injuries to prioritize safety features in aircraft\n",
    "\n",
    "Evaluate aviation accident rates in different regions, such as North America, to identify geographic trends and regional risk factors, to understand which regions have the highest aviation accident rates and identify the airports most commonly associated with these accidents"
   ]
  },
  {
   "cell_type": "code",
   "execution_count": 148,
   "metadata": {},
   "outputs": [
    {
     "data": {
      "text/plain": [
       "location                 object\n",
       "country                  object\n",
       "injury_severity          object\n",
       "aircraft_damage          object\n",
       "aircraft_category        object\n",
       "make                     object\n",
       "model                    object\n",
       "number_of_engines       float64\n",
       "total_fatal_injuries    float64\n",
       "phase_of_flight          object\n",
       "dtype: object"
      ]
     },
     "execution_count": 148,
     "metadata": {},
     "output_type": "execute_result"
    }
   ],
   "source": [
    "df_eda.dtypes"
   ]
  },
  {
   "cell_type": "code",
   "execution_count": 149,
   "metadata": {},
   "outputs": [
    {
     "data": {
      "text/plain": [
       "<function matplotlib.pyplot.plot(*args: 'float | ArrayLike | str', scalex: 'bool' = True, scaley: 'bool' = True, data=None, **kwargs) -> 'list[Line2D]'>"
      ]
     },
     "execution_count": 149,
     "metadata": {},
     "output_type": "execute_result"
    }
   ],
   "source": [
    "#analyzing the number type of planes in our dataset\n",
    "plt.plot"
   ]
  },
  {
   "cell_type": "code",
   "execution_count": 150,
   "metadata": {},
   "outputs": [
    {
     "name": "stdout",
     "output_type": "stream",
     "text": [
      "make\n",
      "cessna              24971\n",
      "piper               13769\n",
      "beech                5021\n",
      "bell                 2252\n",
      "boeing               1435\n",
      "                    ...  \n",
      "owen kingsley b         1\n",
      "knott vernon w          1\n",
      "autogyro usa llc        1\n",
      "vulcanair               1\n",
      "miller-thorp            1\n",
      "Name: count, Length: 1767, dtype: int64\n"
     ]
    },
    {
     "data": {
      "image/png": "[encoded data removed]",
      "text/plain": [
       "<Figure size 640x480 with 1 Axes>"
      ]
     },
     "metadata": {},
     "output_type": "display_data"
    }
   ],
   "source": [
    "#check the distribution of plane make and model variables\n",
    "#Analyzing aircraft make and model, #Analyzing aircraft make and model, most common plane makeand model\n",
    "\n",
    "print(df_eda['make'].value_counts())\n",
    "\n",
    "#Visualize using top 5 makes (brands) using bar plots\n",
    "df_eda['make'].value_counts()[:5].plot(kind='bar', title='Top 5 Aircraft Brand Distribution')\n",
    "plt.show()\n"
   ]
  },
  {
   "cell_type": "code",
   "execution_count": 151,
   "metadata": {},
   "outputs": [
    {
     "name": "stdout",
     "output_type": "stream",
     "text": [
      "make    model\n",
      "cessna  152      2068\n",
      "        172      1510\n",
      "        172N     1076\n",
      "        150       777\n",
      "        172M      756\n",
      "Name: count, dtype: int64\n"
     ]
    },
    {
     "data": {
      "image/png": "[encoded data removed]",
      "text/plain": [
       "<Figure size 640x480 with 1 Axes>"
      ]
     },
     "metadata": {},
     "output_type": "display_data"
    }
   ],
   "source": [
    "new=df_eda[df_eda['make']=='cessna'][['make','model']]\n",
    "print(new.value_counts()[:5])#top 5 aircraft brand and mode\n",
    "\n",
    "#visualize top 5 plane models\n",
    "x=['cessna-152','cessna-172','cessna-172N','cessna-150','cessna-172M']\n",
    "y=new['model'].value_counts()[:5]\n",
    "\n",
    "plt.bar(x,y,color='g')\n",
    "plt.title('Top 5 Cessna models')\n",
    "plt.show()\n",
    " \n"
   ]
  },
  {
   "cell_type": "markdown",
   "metadata": {},
   "source": [
    "Most common plane brand in our dataset is Cessna\n",
    "\n",
    "Most common plane model in our dataset is the Cessna 152\n"
   ]
  },
  {
   "cell_type": "code",
   "execution_count": 152,
   "metadata": {},
   "outputs": [
    {
     "data": {
      "text/plain": [
       "pandas.core.series.Series"
      ]
     },
     "execution_count": 152,
     "metadata": {},
     "output_type": "execute_result"
    }
   ],
   "source": [
    "type(new.value_counts()[:5])"
   ]
  },
  {
   "cell_type": "code",
   "execution_count": 153,
   "metadata": {},
   "outputs": [
    {
     "name": "stdout",
     "output_type": "stream",
     "text": [
      "make    model    \n",
      "cessna  152          2068\n",
      "        172          1510\n",
      "        172N         1076\n",
      "piper   PA-28-140     898\n",
      "cessna  150           777\n",
      "Name: count, dtype: int64\n"
     ]
    },
    {
     "data": {
      "image/png": "[encoded data removed]",
      "text/plain": [
       "<Figure size 640x480 with 1 Axes>"
      ]
     },
     "metadata": {},
     "output_type": "display_data"
    }
   ],
   "source": [
    "#top 5 overall plane models\n",
    "model_count=df_eda[['make','model']]\n",
    "print(model_count.value_counts()[:5])\n",
    "#visualize the top 5 plane models\n",
    "x=['cessna-152','cessna-172','cessna-172N','piper PA-28-140','cessna-150']\n",
    "y=model_count['model'].value_counts()[:5]\n",
    "\n",
    "plt.barh(x,width=y,color='g')\n",
    "plt.title('Top 5 Overall Plane Models')\n",
    "plt.show()"
   ]
  },
  {
   "cell_type": "markdown",
   "metadata": {},
   "source": [
    "2. Analyze injury_severity\n",
    "\n",
    "Goal: Investigate patterns in accident severity.\n",
    "\n",
    "Use bar charts to visualize the frequency of each severity level."
   ]
  },
  {
   "cell_type": "code",
   "execution_count": 154,
   "metadata": {},
   "outputs": [
    {
     "name": "stdout",
     "output_type": "stream",
     "text": [
      "injury_severity\n",
      "Non-Fatal    59314\n",
      "Fatal        12922\n",
      "Incident       147\n",
      "Name: count, dtype: int64\n"
     ]
    },
    {
     "data": {
      "image/png": "[encoded data removed]",
      "text/plain": [
       "<Figure size 640x480 with 1 Axes>"
      ]
     },
     "metadata": {},
     "output_type": "display_data"
    }
   ],
   "source": [
    "# Analyzing injury severity\n",
    "print(df_eda['injury_severity'].value_counts())\n",
    "df_eda['injury_severity'].value_counts().plot(kind='bar', title='Injury Severity Distribution')\n",
    "plt.show()\n"
   ]
  },
  {
   "cell_type": "code",
   "execution_count": null,
   "metadata": {},
   "outputs": [],
   "source": []
  },
  {
   "cell_type": "code",
   "execution_count": null,
   "metadata": {},
   "outputs": [],
   "source": []
  }
 ],
 "metadata": {
  "kernelspec": {
   "display_name": "moringa",
   "language": "python",
   "name": "python3"
  },
  "language_info": {
   "codemirror_mode": {
    "name": "ipython",
    "version": 3
   },
   "file_extension": ".py",
   "mimetype": "text/x-python",
   "name": "python",
   "nbconvert_exporter": "python",
   "pygments_lexer": "ipython3",
   "version": "3.12.7"
  }
 },
 "nbformat": 4,
 "nbformat_minor": 2
}
